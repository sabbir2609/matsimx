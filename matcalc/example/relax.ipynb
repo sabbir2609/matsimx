{
 "cells": [
  {
   "cell_type": "code",
   "execution_count": null,
   "id": "4ea49d47",
   "metadata": {},
   "outputs": [],
   "source": [
    "# install dependencies\n",
    "# !pip install matcalc matgl seekpath crystal_toolkit "
   ]
  },
  {
   "cell_type": "code",
   "execution_count": 15,
   "id": "ecb990fc",
   "metadata": {},
   "outputs": [],
   "source": [
    "import crystal_toolkit\n",
    "import os\n",
    "from pymatgen.core import Structure"
   ]
  },
  {
   "cell_type": "code",
   "execution_count": 16,
   "id": "5476ff84",
   "metadata": {},
   "outputs": [
    {
     "name": "stdout",
     "output_type": "stream",
     "text": [
      "Full Formula (Mo3 S6)\n",
      "Reduced Formula: MoS2\n",
      "abc   :   3.184304   3.184304  19.446295\n",
      "angles:  90.000000  90.000000 120.000000\n",
      "pbc   :       True       True       True\n",
      "Sites (9)\n",
      "  #  SP           a         b         c\n",
      "---  ----  --------  --------  --------\n",
      "  0  Mo4+  0         0         0.999775\n",
      "  1  Mo4+  0.666667  0.333333  0.333108\n",
      "  2  Mo4+  0.333333  0.666667  0.666442\n",
      "  3  S2-   0         0         0.253296\n",
      "  4  S2-   0.666667  0.333333  0.586629\n",
      "  5  S2-   0.333333  0.666667  0.919962\n",
      "  6  S2-   0         0         0.41293\n",
      "  7  S2-   0.666667  0.333333  0.746264\n",
      "  8  S2-   0.333333  0.666667  0.079597\n"
     ]
    },
    {
     "data": {
      "text/html": [
       "\n",
       "        <iframe\n",
       "            width=\"100%\"\n",
       "            height=\"650\"\n",
       "            src=\"http://127.0.0.1:8884/\"\n",
       "            frameborder=\"0\"\n",
       "            allowfullscreen\n",
       "            \n",
       "        ></iframe>\n",
       "        "
      ],
      "text/plain": [
       "<IPython.lib.display.IFrame at 0x7880740e1580>"
      ]
     },
     "metadata": {},
     "output_type": "display_data"
    }
   ],
   "source": [
    "mos2_expt = Structure.from_file(\n",
    "    os.path.join(\"structures\", \"MoS2.cif\")\n",
    ")\n",
    "print(mos2_expt)\n",
    "mos2_expt"
   ]
  },
  {
   "cell_type": "code",
   "execution_count": 4,
   "id": "61ab0454",
   "metadata": {},
   "outputs": [
    {
     "name": "stdout",
     "output_type": "stream",
     "text": [
      "Full Formula (Mo3 S6)\n",
      "Reduced Formula: MoS2\n",
      "abc   :   3.383828   3.383828  20.664772\n",
      "angles:  90.000000  90.000000 120.000000\n",
      "pbc   :       True       True       True\n",
      "Sites (9)\n",
      "  #  SP           a         b         c\n",
      "---  ----  --------  --------  --------\n",
      "  0  Mo4+  0.030511  0.026087  0.998813\n",
      "  1  Mo4+  0.688682  0.33805   0.335502\n",
      "  2  Mo4+  0.31338   0.64636   0.66546\n",
      "  3  S2-   0.023294  0.044946  0.251733\n",
      "  4  S2-   0.670874  0.302126  0.579043\n",
      "  5  S2-   0.387268  0.681484  0.919035\n",
      "  6  S2-   0.986145  0.003419  0.404516\n",
      "  7  S2-   0.66711   0.333493  0.746223\n",
      "  8  S2-   0.339354  0.684013  0.085466\n"
     ]
    },
    {
     "data": {
      "text/html": [
       "\n",
       "        <iframe\n",
       "            width=\"100%\"\n",
       "            height=\"650\"\n",
       "            src=\"http://127.0.0.1:8884/\"\n",
       "            frameborder=\"0\"\n",
       "            allowfullscreen\n",
       "            \n",
       "        ></iframe>\n",
       "        "
      ],
      "text/plain": [
       "<IPython.lib.display.IFrame at 0x788075a1f7a0>"
      ]
     },
     "metadata": {},
     "output_type": "display_data"
    }
   ],
   "source": [
    "mos2_perturbed = mos2_expt.copy().perturb(0.2) # perturb structure by up to 0.2 Angstrom\n",
    "mos2_perturbed.scale_lattice(mos2_expt.lattice.volume*1.2) # scale lattice to 120% of original volume\n",
    "print(mos2_perturbed)\n",
    "mos2_perturbed"
   ]
  },
  {
   "cell_type": "code",
   "execution_count": 17,
   "id": "eb00e320",
   "metadata": {},
   "outputs": [
    {
     "data": {
      "text/plain": [
       "[<UNIVERSAL_CALCULATORS.CHGNet: 'CHGNet'>,\n",
       " <UNIVERSAL_CALCULATORS.CHGNet-MPtrj-2023.12.1-2.7M-PES: 'CHGNet-MPtrj-2023.12.1-2.7M-PES'>,\n",
       " <UNIVERSAL_CALCULATORS.CHGNet-MPtrj-2024.2.13-11M-PES: 'CHGNet-MPtrj-2024.2.13-11M-PES'>,\n",
       " <UNIVERSAL_CALCULATORS.CHGNet-MatPES-PBE-2025.2.10-2.7M-PES: 'CHGNet-MatPES-PBE-2025.2.10-2.7M-PES'>,\n",
       " <UNIVERSAL_CALCULATORS.CHGNet-MatPES-r2SCAN-2025.2.10-2.7M-PES: 'CHGNet-MatPES-r2SCAN-2025.2.10-2.7M-PES'>,\n",
       " <UNIVERSAL_CALCULATORS.DeePMD: 'DeePMD'>,\n",
       " <UNIVERSAL_CALCULATORS.FAIRChem: 'FAIRChem'>,\n",
       " <UNIVERSAL_CALCULATORS.GRACE: 'GRACE'>,\n",
       " <UNIVERSAL_CALCULATORS.M3GNet: 'M3GNet'>,\n",
       " <UNIVERSAL_CALCULATORS.M3GNet-MP-2021.2.8-DIRECT-PES: 'M3GNet-MP-2021.2.8-DIRECT-PES'>,\n",
       " <UNIVERSAL_CALCULATORS.M3GNet-MP-2021.2.8-PES: 'M3GNet-MP-2021.2.8-PES'>,\n",
       " <UNIVERSAL_CALCULATORS.M3GNet-MatPES-PBE-v2025.1-PES: 'M3GNet-MatPES-PBE-v2025.1-PES'>,\n",
       " <UNIVERSAL_CALCULATORS.M3GNet-MatPES-r2SCAN-v2025.1-PES: 'M3GNet-MatPES-r2SCAN-v2025.1-PES'>,\n",
       " <UNIVERSAL_CALCULATORS.MACE: 'MACE'>,\n",
       " <UNIVERSAL_CALCULATORS.MatterSim: 'MatterSim'>,\n",
       " <UNIVERSAL_CALCULATORS.ORB: 'ORB'>,\n",
       " <UNIVERSAL_CALCULATORS.PBE: 'PBE'>,\n",
       " <UNIVERSAL_CALCULATORS.PETMAD: 'PETMAD'>,\n",
       " <UNIVERSAL_CALCULATORS.SevenNet: 'SevenNet'>,\n",
       " <UNIVERSAL_CALCULATORS.TensorNet: 'TensorNet'>,\n",
       " <UNIVERSAL_CALCULATORS.TensorNet-MatPES-PBE-v2025.1-PES: 'TensorNet-MatPES-PBE-v2025.1-PES'>,\n",
       " <UNIVERSAL_CALCULATORS.TensorNet-MatPES-r2SCAN-v2025.1-PES: 'TensorNet-MatPES-r2SCAN-v2025.1-PES'>,\n",
       " <UNIVERSAL_CALCULATORS.TensorPotential: 'TensorPotential'>,\n",
       " <UNIVERSAL_CALCULATORS.r2SCAN: 'r2SCAN'>]"
      ]
     },
     "execution_count": 17,
     "metadata": {},
     "output_type": "execute_result"
    }
   ],
   "source": [
    "import matcalc\n",
    "from matcalc.utils import UNIVERSAL_CALCULATORS\n",
    "\n",
    "list(UNIVERSAL_CALCULATORS)"
   ]
  },
  {
   "cell_type": "code",
   "execution_count": 18,
   "id": "fa01f9cf",
   "metadata": {},
   "outputs": [
    {
     "data": {
      "text/plain": [
       "{'tensornet': 'TensorNet-MatPES-PBE-v2025.1-PES',\n",
       " 'm3gnet': 'M3GNet-MatPES-PBE-v2025.1-PES',\n",
       " 'chgnet': 'CHGNet-MatPES-PBE-2025.2.10-2.7M-PES',\n",
       " 'pbe': 'TensorNet-MatPES-PBE-v2025.1-PES',\n",
       " 'r2scan': 'TensorNet-MatPES-r2SCAN-v2025.1-PES'}"
      ]
     },
     "execution_count": 18,
     "metadata": {},
     "output_type": "execute_result"
    }
   ],
   "source": [
    "from matcalc.utils import MODEL_ALIASES\n",
    "MODEL_ALIASES"
   ]
  },
  {
   "cell_type": "code",
   "execution_count": 19,
   "id": "2695b156",
   "metadata": {},
   "outputs": [],
   "source": [
    "calculator_pbe = matcalc.load_fp(\"pbe\")"
   ]
  },
  {
   "cell_type": "code",
   "execution_count": null,
   "id": "efeee639",
   "metadata": {},
   "outputs": [],
   "source": [
    "relax_calc = matcalc.RelaxCalc(\n",
    "    calculator_pbe,\n",
    "    optimizer=\"FIRE\",\n",
    "    relax_atoms=True,\n",
    "    relax_cell=True\n",
    ")\n",
    "\n",
    "data = relax_calc.calc(mos2_perturbed)"
   ]
  },
  {
   "cell_type": "code",
   "execution_count": null,
   "id": "711afc9b",
   "metadata": {},
   "outputs": [],
   "source": [
    "data"
   ]
  },
  {
   "cell_type": "code",
   "execution_count": null,
   "id": "b5884a28",
   "metadata": {},
   "outputs": [],
   "source": [
    "final_structure_pbe = data['final_structure']\n",
    "print(mos2_expt)\n",
    "print(final_structure_pbe)\n",
    "final_structure_pbe"
   ]
  },
  {
   "cell_type": "code",
   "execution_count": 7,
   "id": "e797a54a",
   "metadata": {},
   "outputs": [],
   "source": [
    "calculator_r2scan = matcalc.load_fp(\"r2scan\")"
   ]
  },
  {
   "cell_type": "code",
   "execution_count": 10,
   "id": "7d1d322f",
   "metadata": {},
   "outputs": [],
   "source": [
    "relax_calc = matcalc.RelaxCalc(\n",
    "    calculator_r2scan,\n",
    "    optimizer=\"FIRE\",\n",
    "    relax_atoms=True,\n",
    "    relax_cell=True\n",
    ")\n",
    "\n",
    "data = relax_calc.calc(mos2_perturbed)"
   ]
  },
  {
   "cell_type": "code",
   "execution_count": null,
   "id": "8156b0a6",
   "metadata": {},
   "outputs": [
    {
     "name": "stdout",
     "output_type": "stream",
     "text": [
      "Full Formula (Mo3 S6)\n",
      "Reduced Formula: MoS2\n",
      "abc   :   3.184304   3.184304  19.446295\n",
      "angles:  90.000000  90.000000 120.000000\n",
      "pbc   :       True       True       True\n",
      "Sites (9)\n",
      "  #  SP           a         b         c\n",
      "---  ----  --------  --------  --------\n",
      "  0  Mo4+  0         0         0.999775\n",
      "  1  Mo4+  0.666667  0.333333  0.333108\n",
      "  2  Mo4+  0.333333  0.666667  0.666442\n",
      "  3  S2-   0         0         0.253296\n",
      "  4  S2-   0.666667  0.333333  0.586629\n",
      "  5  S2-   0.333333  0.666667  0.919962\n",
      "  6  S2-   0         0         0.41293\n",
      "  7  S2-   0.666667  0.333333  0.746264\n",
      "  8  S2-   0.333333  0.666667  0.079597\n",
      "Full Formula (Mo3 S6)\n",
      "Reduced Formula: MoS2\n",
      "abc   :   3.169819   3.169906  20.331623\n",
      "angles:  90.177809  89.578968 120.003037\n",
      "pbc   :       True       True       True\n",
      "Sites (9)\n",
      "  #  SP           a         b         c\n",
      "---  ----  --------  --------  --------\n",
      "  0  Mo4+  0.029864  0.019293  1.00099\n",
      "  1  Mo4+  0.677372  0.35069   0.330703\n",
      "  2  Mo4+  0.328362  0.649841  0.663682\n",
      "  3  S2-   0.01367   0.015628  0.253978\n",
      "  4  S2-   0.666395  0.31886   0.587103\n",
      "  5  S2-   0.365335  0.686444  0.924627\n",
      "  6  S2-   1.00711   0.019542  0.407018\n",
      "  7  S2-   0.657376  0.314317  0.740074\n",
      "  8  S2-   0.361128  0.685362  0.077617\n"
     ]
    },
    {
     "data": {
      "text/html": [
       "\n",
       "        <iframe\n",
       "            width=\"100%\"\n",
       "            height=\"650\"\n",
       "            src=\"http://127.0.0.1:8884/\"\n",
       "            frameborder=\"0\"\n",
       "            allowfullscreen\n",
       "            \n",
       "        ></iframe>\n",
       "        "
      ],
      "text/plain": [
       "<IPython.lib.display.IFrame at 0x787febfe07a0>"
      ]
     },
     "metadata": {},
     "output_type": "display_data"
    },
    {
     "name": "stdout",
     "output_type": "stream",
     "text": [
      "cuequivariance or cuequivariance_torch is not available. Cuequivariance acceleration will be disabled.\n"
     ]
    }
   ],
   "source": [
    "final_structure_pbe = data['final_structure']\n",
    "print(mos2_expt)\n",
    "print(final_structure_pbe)\n",
    "final_structure_pbe"
   ]
  },
  {
   "cell_type": "code",
   "execution_count": 12,
   "id": "575bd9d7",
   "metadata": {},
   "outputs": [],
   "source": [
    "from mace.calculators import mace_mp"
   ]
  },
  {
   "cell_type": "code",
   "execution_count": 13,
   "id": "67504299",
   "metadata": {},
   "outputs": [
    {
     "name": "stdout",
     "output_type": "stream",
     "text": [
      "Using medium MPA-0 model as default MACE-MP model, to use previous (before 3.10) default model please specify 'medium' as model argument\n",
      "Downloading MACE model from 'https://github.com/ACEsuit/mace-mp/releases/download/mace_mpa_0/mace-mpa-0-medium.model'\n",
      "Cached MACE model to /home/sabbir/.cache/mace/macempa0mediummodel\n",
      "Using Materials Project MACE for MACECalculator with /home/sabbir/.cache/mace/macempa0mediummodel\n",
      "Using float32 for MACECalculator, which is faster but less accurate. Recommended for MD. Use float64 for geometry optimization.\n",
      "Using head default out of ['default']\n",
      "Default dtype float32 does not match model dtype float64, converting models to float32.\n"
     ]
    },
    {
     "data": {
      "text/plain": [
       "(mace.calculators.mace.MACECalculator,\n",
       " ase.calculators.calculator.Calculator,\n",
       " ase.calculators.calculator.BaseCalculator,\n",
       " ase.calculators.abc.GetPropertiesMixin,\n",
       " abc.ABC,\n",
       " object)"
      ]
     },
     "execution_count": 13,
     "metadata": {},
     "output_type": "execute_result"
    }
   ],
   "source": [
    "calculator_macemp = mace_mp()\n",
    "\n",
    "type(calculator_macemp).__mro__"
   ]
  }
 ],
 "metadata": {
  "kernelspec": {
   "display_name": "matsimx",
   "language": "python",
   "name": "python3"
  },
  "language_info": {
   "codemirror_mode": {
    "name": "ipython",
    "version": 3
   },
   "file_extension": ".py",
   "mimetype": "text/x-python",
   "name": "python",
   "nbconvert_exporter": "python",
   "pygments_lexer": "ipython3",
   "version": "3.12.3"
  }
 },
 "nbformat": 4,
 "nbformat_minor": 5
}
