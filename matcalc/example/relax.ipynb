{
 "cells": [
  {
   "cell_type": "code",
   "execution_count": null,
   "id": "4ea49d47",
   "metadata": {},
   "outputs": [],
   "source": [
    "# install dependencies\n",
    "# !pip install matcalc matgl seekpath crystal_toolkit "
   ]
  },
  {
   "cell_type": "code",
   "execution_count": null,
   "id": "ecb990fc",
   "metadata": {},
   "outputs": [],
   "source": [
    "import crystal_toolkit\n",
    "import os\n",
    "from pymatgen.core import Structure"
   ]
  },
  {
   "cell_type": "code",
   "execution_count": null,
   "id": "5476ff84",
   "metadata": {},
   "outputs": [],
   "source": [
    "mos2_expt = Structure.from_file(\n",
    "    os.path.join(\"structures\", \"MoS2.cif\")\n",
    ")\n",
    "print(mos2_expt)\n",
    "mos2_expt"
   ]
  },
  {
   "cell_type": "code",
   "execution_count": null,
   "id": "61ab0454",
   "metadata": {},
   "outputs": [],
   "source": [
    "mos2_perturbed = mos2_expt.copy().perturb(0.2) # perturb structure by up to 0.2 Angstrom\n",
    "mos2_perturbed.scale_lattice(mos2_expt.lattice.volume*1.2) # scale lattice to 120% of original volume\n",
    "print(mos2_perturbed)\n",
    "mos2_perturbed"
   ]
  },
  {
   "cell_type": "code",
   "execution_count": null,
   "id": "eb00e320",
   "metadata": {},
   "outputs": [],
   "source": [
    "import matcalc\n",
    "from matcalc.utils import UNIVERSAL_CALCULATORS\n",
    "\n",
    "list(UNIVERSAL_CALCULATORS)"
   ]
  },
  {
   "cell_type": "code",
   "execution_count": null,
   "id": "fa01f9cf",
   "metadata": {},
   "outputs": [],
   "source": [
    "from matcalc.utils import MODEL_ALIASES\n",
    "MODEL_ALIASES"
   ]
  },
  {
   "cell_type": "code",
   "execution_count": null,
   "id": "2695b156",
   "metadata": {},
   "outputs": [],
   "source": [
    "calculator_pbe = matcalc.load_fp(\"pbe\")"
   ]
  },
  {
   "cell_type": "code",
   "execution_count": null,
   "id": "efeee639",
   "metadata": {},
   "outputs": [],
   "source": [
    "relax_calc = matcalc.RelaxCalc(\n",
    "    calculator_pbe,\n",
    "    optimizer=\"FIRE\",\n",
    "    relax_atoms=True,\n",
    "    relax_cell=True\n",
    ")\n",
    "\n",
    "data = relax_calc.calc(mos2_perturbed)"
   ]
  },
  {
   "cell_type": "code",
   "execution_count": null,
   "id": "711afc9b",
   "metadata": {},
   "outputs": [],
   "source": [
    "data"
   ]
  },
  {
   "cell_type": "code",
   "execution_count": null,
   "id": "b5884a28",
   "metadata": {},
   "outputs": [],
   "source": [
    "final_structure_pbe = data['final_structure']\n",
    "print(mos2_expt)\n",
    "print(final_structure_pbe)\n",
    "final_structure_pbe"
   ]
  },
  {
   "cell_type": "code",
   "execution_count": null,
   "id": "e797a54a",
   "metadata": {},
   "outputs": [],
   "source": [
    "calculator_r2scan = matcalc.load_fp(\"r2scan\")"
   ]
  },
  {
   "cell_type": "code",
   "execution_count": null,
   "id": "7d1d322f",
   "metadata": {},
   "outputs": [],
   "source": [
    "relax_calc = matcalc.RelaxCalc(\n",
    "    calculator_r2scan,\n",
    "    optimizer=\"FIRE\",\n",
    "    relax_atoms=True,\n",
    "    relax_cell=True\n",
    ")\n",
    "\n",
    "data = relax_calc.calc(mos2_perturbed)"
   ]
  },
  {
   "cell_type": "code",
   "execution_count": null,
   "id": "8156b0a6",
   "metadata": {},
   "outputs": [],
   "source": [
    "final_structure_pbe = data['final_structure']\n",
    "print(mos2_expt)\n",
    "print(final_structure_pbe)\n",
    "final_structure_pbe"
   ]
  },
  {
   "cell_type": "code",
   "execution_count": null,
   "id": "575bd9d7",
   "metadata": {},
   "outputs": [],
   "source": [
    "from mace.calculators import mace_mp"
   ]
  },
  {
   "cell_type": "code",
   "execution_count": null,
   "id": "67504299",
   "metadata": {},
   "outputs": [],
   "source": [
    "calculator_macemp = mace_mp()\n",
    "\n",
    "type(calculator_macemp).__mro__"
   ]
  }
 ],
 "metadata": {
  "kernelspec": {
   "display_name": "matsimx",
   "language": "python",
   "name": "python3"
  },
  "language_info": {
   "codemirror_mode": {
    "name": "ipython",
    "version": 3
   },
   "file_extension": ".py",
   "mimetype": "text/x-python",
   "name": "python",
   "nbconvert_exporter": "python",
   "pygments_lexer": "ipython3",
   "version": "3.12.3"
  }
 },
 "nbformat": 4,
 "nbformat_minor": 5
}
