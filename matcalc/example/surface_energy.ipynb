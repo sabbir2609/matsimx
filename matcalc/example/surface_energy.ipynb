{
 "cells": [
  {
   "cell_type": "code",
   "execution_count": null,
   "id": "f599ce48",
   "metadata": {},
   "outputs": [],
   "source": [
    "import crystal_toolkit\n",
    "import os\n",
    "from pymatgen.core import Structure\n",
    "import matcalc"
   ]
  },
  {
   "cell_type": "code",
   "execution_count": null,
   "id": "70cf1e84",
   "metadata": {},
   "outputs": [],
   "source": [
    "si_expt = Structure.from_file(\n",
    "    os.path.join(\"structures\", \"Si.cif\")\n",
    ")\n",
    "print(si_expt)\n",
    "si_expt"
   ]
  },
  {
   "cell_type": "code",
   "execution_count": null,
   "id": "43beafbe",
   "metadata": {},
   "outputs": [],
   "source": [
    "calculator_pbe = matcalc.load_fp(\"pbe\")"
   ]
  },
  {
   "cell_type": "code",
   "execution_count": null,
   "id": "06f3bef4",
   "metadata": {},
   "outputs": [],
   "source": [
    "surface_calc = matcalc.SurfaceCalc(calculator_pbe)\n",
    "slab_data = surface_calc.calc_slabs(si_expt, miller_index=(3,2,0), inplane_supercell=(2,2))"
   ]
  },
  {
   "cell_type": "code",
   "execution_count": null,
   "id": "d7527e23",
   "metadata": {},
   "outputs": [],
   "source": [
    "slab_structure = slab_data[0]['slab']\n",
    "print(slab_structure)\n",
    "slab_structure"
   ]
  },
  {
   "cell_type": "code",
   "execution_count": null,
   "id": "09a7d20e",
   "metadata": {},
   "outputs": [],
   "source": [
    "surface_data = surface_calc.calc(\n",
    "    {\n",
    "        \"bulk\": si_expt,\n",
    "        \"slab\": slab_structure\n",
    "    }\n",
    ")\n",
    "\n",
    "surface_data['surface_energy']"
   ]
  }
 ],
 "metadata": {
  "kernelspec": {
   "display_name": "matsimx",
   "language": "python",
   "name": "python3"
  },
  "language_info": {
   "codemirror_mode": {
    "name": "ipython",
    "version": 3
   },
   "file_extension": ".py",
   "mimetype": "text/x-python",
   "name": "python",
   "nbconvert_exporter": "python",
   "pygments_lexer": "ipython3",
   "version": "3.12.3"
  }
 },
 "nbformat": 4,
 "nbformat_minor": 5
}
