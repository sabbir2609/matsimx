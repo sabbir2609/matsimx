{
 "cells": [
  {
   "cell_type": "code",
   "execution_count": null,
   "id": "a8a7a61d",
   "metadata": {},
   "outputs": [],
   "source": [
    "import crystal_toolkit\n",
    "import os\n",
    "from pymatgen.core import Structure"
   ]
  },
  {
   "cell_type": "code",
   "execution_count": null,
   "id": "b71422dc",
   "metadata": {},
   "outputs": [],
   "source": [
    "cif_name = \"gen_4\"\n",
    "\n",
    "struct_expt = Structure.from_file(\n",
    "    os.path.join(\"cif\", f\"{cif_name}.cif\")\n",
    ")\n",
    "print(struct_expt)\n",
    "\n",
    "struct_expt"
   ]
  },
  {
   "cell_type": "code",
   "execution_count": null,
   "id": "a7876393",
   "metadata": {},
   "outputs": [],
   "source": [
    "# get reduced formula\n",
    "reduced_formula = struct_expt.composition.reduced_formula\n",
    "\n",
    "# mkdir in output folder named reduced_formula\n",
    "os.makedirs(f\"output/{reduced_formula}\", exist_ok=True)"
   ]
  },
  {
   "cell_type": "markdown",
   "id": "56c4a0f9",
   "metadata": {},
   "source": [
    "## pbe"
   ]
  },
  {
   "cell_type": "code",
   "execution_count": null,
   "id": "30c5ce24",
   "metadata": {},
   "outputs": [],
   "source": [
    "# Relax with pbe\n",
    "\n",
    "import matcalc\n",
    "\n",
    "calculator_pbe = matcalc.load_fp(\"pbe\")\n",
    "relax_calc = matcalc.RelaxCalc( # type: ignore\n",
    "    calculator_pbe,\n",
    "    optimizer=\"FIRE\",\n",
    "    relax_atoms=True,\n",
    "    relax_cell=True\n",
    ")\n",
    "\n",
    "data = relax_calc.calc(struct_expt)\n"
   ]
  },
  {
   "cell_type": "code",
   "execution_count": null,
   "id": "30c25a00",
   "metadata": {},
   "outputs": [],
   "source": [
    "final_structure_pbe = data['final_structure']\n",
    "print(final_structure_pbe)\n",
    "final_structure_pbe"
   ]
  },
  {
   "cell_type": "code",
   "execution_count": null,
   "id": "8cb51a6c",
   "metadata": {},
   "outputs": [],
   "source": [
    "phonon_calc = matcalc.PhononCalc( # type: ignore\n",
    "    calculator_pbe,\n",
    "    relax_structure=True,\n",
    "    write_band_structure=f\"output/{reduced_formula}/pbe_phonon_bs.yaml\",\n",
    "    write_total_dos=f\"output/{reduced_formula}/pbe_phonon_dos.dat\",\n",
    "    write_phonon=f\"output/{reduced_formula}/pbe_phonon.yaml\",\n",
    "    optimizer=\"FIRE\",\n",
    ")\n",
    "\n",
    "data_phonon_pbe = phonon_calc.calc(final_structure_pbe)"
   ]
  },
  {
   "cell_type": "code",
   "execution_count": null,
   "id": "56b322bf",
   "metadata": {},
   "outputs": [],
   "source": [
    "import matplotlib.pyplot as plt\n",
    "\n",
    "phonon_bs = data_phonon_pbe['phonon'].band_structure\n",
    "\n",
    "n_axes = sum(1 for c in phonon_bs.path_connections if not c)\n",
    "\n",
    "fig, axs = plt.subplots(1, n_axes, figsize=(16, 5))\n",
    "\n",
    "if n_axes == 1:\n",
    "    axs = [axs]\n",
    "\n",
    "for ax in axs[1:]:\n",
    "    ax.set_ylabel('')\n",
    "    ax.tick_params(axis='y', labelleft=False)\n",
    "\n",
    "phonon_bs.plot(ax=axs)\n",
    "fig.suptitle(\"Phonon band structure\", fontsize=16)\n",
    "plt.subplots_adjust(wspace=0.07)\n",
    "plt.show()\n"
   ]
  },
  {
   "cell_type": "code",
   "execution_count": null,
   "id": "6480e6a0",
   "metadata": {},
   "outputs": [],
   "source": [
    "phonon_dos = data_phonon_pbe[\"phonon\"].total_dos\n",
    "\n",
    "fig, ax = plt.subplots(figsize=(8, 5))\n",
    "phonon_dos.plot(ax=ax)\n",
    "fig.suptitle(\"Phonon DOS\", fontsize=16)\n",
    "plt.show()"
   ]
  },
  {
   "cell_type": "code",
   "execution_count": null,
   "id": "9f5738d6",
   "metadata": {},
   "outputs": [],
   "source": [
    "plt.plot(\n",
    "    data_phonon_pbe['thermal_properties']['temperatures'],\n",
    "    data_phonon_pbe['thermal_properties']['heat_capacity']\n",
    ")\n",
    "\n",
    "plt.xlabel(\"Temperature (K)\")\n",
    "plt.ylabel('Heat Capacity (J/mol-K)')\n",
    "plt.title(\"Heat Capacity vs Temperature\")\n",
    "plt.show()"
   ]
  },
  {
   "cell_type": "markdown",
   "id": "a784d4a7",
   "metadata": {},
   "source": [
    "## r2scan"
   ]
  },
  {
   "cell_type": "code",
   "execution_count": null,
   "id": "4f35b5c4",
   "metadata": {},
   "outputs": [],
   "source": [
    "## Relax with r2scan\n",
    "\n",
    "import matcalc\n",
    "\n",
    "calculator_r2scan = matcalc.load_fp(\"r2scan\")\n",
    "relax_calc = matcalc.RelaxCalc(\n",
    "    calculator_r2scan,\n",
    "    optimizer=\"FIRE\",\n",
    "    relax_atoms=True,\n",
    "    relax_cell=True\n",
    ")\n",
    "\n",
    "data_r2scan = relax_calc.calc(struct_expt)\n"
   ]
  },
  {
   "cell_type": "code",
   "execution_count": null,
   "id": "cafa6c88",
   "metadata": {},
   "outputs": [],
   "source": [
    "final_structure_r2scan = data_r2scan['final_structure']\n",
    "print(final_structure_r2scan)\n",
    "final_structure_r2scan"
   ]
  },
  {
   "cell_type": "code",
   "execution_count": null,
   "id": "f5ba2852",
   "metadata": {},
   "outputs": [],
   "source": [
    "phonon_calc = matcalc.PhononCalc( # type: ignore\n",
    "    calculator_r2scan,\n",
    "    relax_structure=True,\n",
    "    write_band_structure=f\"output/{reduced_formula}/r2scan_phonon_bs.yaml\",\n",
    "    write_total_dos=f\"output/{reduced_formula}/r2scan_phonon_dos.dat\",\n",
    "    write_phonon=f\"output/{reduced_formula}/r2scan_phonon.yaml\",\n",
    "    optimizer=\"FIRE\",\n",
    ")\n",
    "\n",
    "data_phonon_r2scan = phonon_calc.calc(final_structure_r2scan)"
   ]
  },
  {
   "cell_type": "code",
   "execution_count": null,
   "id": "b575ff9a",
   "metadata": {},
   "outputs": [],
   "source": [
    "import matplotlib.pyplot as plt\n",
    "\n",
    "phonon_bs = data_phonon_r2scan['phonon'].band_structure\n",
    "\n",
    "n_axes = sum(1 for c in phonon_bs.path_connections if not c)\n",
    "\n",
    "fig, axs = plt.subplots(1, n_axes, figsize=(16, 5))\n",
    "\n",
    "if n_axes == 1:\n",
    "    axs = [axs]\n",
    "\n",
    "for ax in axs[1:]:\n",
    "    ax.set_ylabel('')\n",
    "    ax.tick_params(axis='y', labelleft=False)\n",
    "\n",
    "phonon_bs.plot(ax=axs)\n",
    "fig.suptitle(\"Phonon band structure\", fontsize=16)\n",
    "plt.subplots_adjust(wspace=0.07)\n",
    "plt.show()\n"
   ]
  },
  {
   "cell_type": "code",
   "execution_count": null,
   "id": "d7c3e198",
   "metadata": {},
   "outputs": [],
   "source": [
    "phonon_dos = data_phonon_r2scan[\"phonon\"].total_dos\n",
    "\n",
    "fig, ax = plt.subplots(figsize=(8, 5))\n",
    "phonon_dos.plot(ax=ax)\n",
    "fig.suptitle(\"Phonon DOS\", fontsize=16)\n",
    "plt.show()"
   ]
  },
  {
   "cell_type": "code",
   "execution_count": null,
   "id": "ff98c9a5",
   "metadata": {},
   "outputs": [],
   "source": [
    "plt.plot(\n",
    "    data_phonon_pbe['thermal_properties']['temperatures'],\n",
    "    data_phonon_pbe['thermal_properties']['heat_capacity']\n",
    ")\n",
    "\n",
    "plt.xlabel(\"Temperature (K)\")\n",
    "plt.ylabel('Heat Capacity (J/mol-K)')\n",
    "plt.title(\"Heat Capacity vs Temperature\")\n",
    "plt.show()"
   ]
  }
 ],
 "metadata": {
  "kernelspec": {
   "display_name": "matsim",
   "language": "python",
   "name": "python3"
  },
  "language_info": {
   "codemirror_mode": {
    "name": "ipython",
    "version": 3
   },
   "file_extension": ".py",
   "mimetype": "text/x-python",
   "name": "python",
   "nbconvert_exporter": "python",
   "pygments_lexer": "ipython3",
   "version": "3.10.18"
  }
 },
 "nbformat": 4,
 "nbformat_minor": 5
}
