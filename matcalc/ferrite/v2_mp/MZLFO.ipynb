{
 "cells": [
  {
   "cell_type": "code",
   "execution_count": null,
   "id": "06d403a4",
   "metadata": {},
   "outputs": [],
   "source": [
    "import os\n",
    "\n",
    "import crystal_toolkit\n",
    "from pymatgen.core import Structure\n",
    "from pymatgen.ext.matproj import MPRester\n",
    "from pymatgen.symmetry.analyzer import SpacegroupAnalyzer\n",
    "from pymatgen.transformations.advanced_transformations import DopingTransformation\n",
    "\n",
    "import matcalc\n",
    "from matcalc import PhononCalc"
   ]
  },
  {
   "cell_type": "markdown",
   "id": "c8995f44",
   "metadata": {},
   "source": [
    "## From MP"
   ]
  },
  {
   "cell_type": "code",
   "execution_count": null,
   "id": "75f43882",
   "metadata": {},
   "outputs": [],
   "source": [
    "api_key = os.getenv(\"API_KEY\")\n",
    "\n",
    "mpr = MPRester(api_key)\n",
    "\n",
    "# fetch the structure of Zn(FeO2)2\n",
    "structure_mp = mpr.get_structure_by_material_id(\"mp-18750\")\n",
    "print(structure_mp)\n",
    "structure_mp"
   ]
  },
  {
   "cell_type": "code",
   "execution_count": null,
   "id": "23707837",
   "metadata": {},
   "outputs": [],
   "source": [
    "sga_loose = SpacegroupAnalyzer(structure_mp, symprec=0.2, angle_tolerance=10)\n",
    "sg_sym, sg_num = sga_loose.get_space_group_symbol(), sga_loose.get_space_group_number()\n",
    "print(\n",
    "    sg_sym, sg_num\n",
    ")"
   ]
  },
  {
   "cell_type": "code",
   "execution_count": null,
   "id": "afa3b0d7",
   "metadata": {},
   "outputs": [],
   "source": [
    "from pymatgen.transformations.standard_transformations import SubstitutionTransformation\n",
    "\n",
    "# Partial doping example: Replace Mn by 20%  + 80% Mn\n",
    "substitution = {\"Mn\": {\"Mn\": 0.2, \"Zn\": 0.8}}\n",
    "\n",
    "trans = SubstitutionTransformation(substitution)\n",
    "doped_structure = trans.apply_transformation(structure_mp)\n",
    "\n",
    "doped_structure"
   ]
  },
  {
   "cell_type": "code",
   "execution_count": null,
   "id": "81208634",
   "metadata": {},
   "outputs": [],
   "source": [
    "sga_loose = SpacegroupAnalyzer(doped_structure, symprec=0.2, angle_tolerance=10)\n",
    "sg_sym, sg_num = sga_loose.get_space_group_symbol(), sga_loose.get_space_group_number()\n",
    "print(\n",
    "    sg_sym, sg_num\n",
    ")"
   ]
  },
  {
   "cell_type": "code",
   "execution_count": null,
   "id": "1bb17cbc",
   "metadata": {},
   "outputs": [],
   "source": [
    "from pymatgen.transformations.standard_transformations import (\n",
    "    DiscretizeOccupanciesTransformation,\n",
    "    OrderDisorderedStructureTransformation,\n",
    ")\n",
    "\n",
    "# Step 1: Discretize small fractional occupancies\n",
    "discretizer = DiscretizeOccupanciesTransformation(tol=0.1)\n",
    "s_discretized = discretizer.apply_transformation(doped_structure)\n",
    "\n",
    "# Optional: build supercell manually to increase multiplicities\n",
    "# For example, building a 2x2x2 supercell to get integer occupancies\n",
    "s_supercell = s_discretized * (2, 2, 2)  # multiply unit cell axes\n",
    "\n",
    "# Step 2: Try ordering the discretized, possibly enlarged supercell\n",
    "order_trans = OrderDisorderedStructureTransformation(no_oxi_states=True)\n",
    "s_ordered = order_trans.apply_transformation(s_supercell, return_ranked_list=10)\n",
    "\n",
    "for idx, ostruct in enumerate(s_ordered):\n",
    "    print(f\"-----Ordering {idx + 1}-----\")\n",
    "    print(ostruct)\n",
    "    print(\"\\n\")\n",
    "\n",
    "doped_structure = s_ordered[0][\"structure\"]\n",
    "doped_structure"
   ]
  },
  {
   "cell_type": "code",
   "execution_count": null,
   "id": "5b8d7fb3",
   "metadata": {},
   "outputs": [],
   "source": [
    "sga_loose = SpacegroupAnalyzer(doped_structure, symprec=0.2, angle_tolerance=10)\n",
    "sg_sym, sg_num = sga_loose.get_space_group_symbol(), sga_loose.get_space_group_number()\n",
    "print(\n",
    "    sg_sym, sg_num\n",
    ")"
   ]
  },
  {
   "cell_type": "code",
   "execution_count": null,
   "id": "ca3e41b5",
   "metadata": {},
   "outputs": [],
   "source": [
    "# Get back to R3m to fd3m"
   ]
  },
  {
   "cell_type": "code",
   "execution_count": null,
   "id": "98a59c48",
   "metadata": {},
   "outputs": [],
   "source": [
    "calculator_2 = matcalc.load_fp(\"r2scan\")\n",
    "\n",
    "relax_calc = matcalc.RelaxCalc(\n",
    "    calculator_2,\n",
    "    optimizer=\"FIRE\",\n",
    "    relax_atoms=True,\n",
    "    relax_cell=True\n",
    ")\n",
    "\n",
    "data = relax_calc.calc(doped_structure)"
   ]
  },
  {
   "cell_type": "code",
   "execution_count": null,
   "id": "cc34301f",
   "metadata": {},
   "outputs": [],
   "source": [
    "final_structure_relaxed = data['final_structure']\n",
    "print(final_structure_relaxed)\n",
    "final_structure_relaxed"
   ]
  },
  {
   "cell_type": "code",
   "execution_count": null,
   "id": "d96c9b75",
   "metadata": {},
   "outputs": [],
   "source": [
    "sga_loose = SpacegroupAnalyzer(final_structure_relaxed, symprec=0.2, angle_tolerance=10)\n",
    "sg_sym, sg_num = sga_loose.get_space_group_symbol(), sga_loose.get_space_group_number()\n",
    "print(\n",
    "    sg_sym, sg_num\n",
    ")"
   ]
  },
  {
   "cell_type": "code",
   "execution_count": null,
   "id": "f35c701e",
   "metadata": {},
   "outputs": [],
   "source": [
    "calculator_ph = matcalc.load_fp(\"pbe\")\n",
    "\n",
    "phonon_calc = PhononCalc(\n",
    "    calculator_ph,\n",
    "    relax_structure=True,\n",
    "    write_band_structure=\"output/MZFO_phonon_bs.yaml\",\n",
    "    write_total_dos=\"output/MZFO_phonon_dos.dat\",\n",
    "    write_phonon=\"output/MZFO_phonon.yaml\",\n",
    "    optimizer=\"FIRE\",\n",
    ")\n",
    "\n",
    "data_ph = phonon_calc.calc(final_structure_relaxed)"
   ]
  },
  {
   "cell_type": "code",
   "execution_count": null,
   "id": "871b2c72",
   "metadata": {},
   "outputs": [],
   "source": [
    "import matplotlib.pyplot as plt\n",
    "\n",
    "phonon_bs = data_ph['phonon'].band_structure\n",
    "\n",
    "n_axes = sum(1 for c in phonon_bs.path_connections if not c)\n",
    "\n",
    "fig, axs = plt.subplots(1, n_axes, figsize=(16, 5))\n",
    "\n",
    "if n_axes == 1:\n",
    "    axs = [axs]\n",
    "\n",
    "for ax in axs[1:]:\n",
    "    ax.set_ylabel('')\n",
    "    ax.tick_params(axis='y', labelleft=False)\n",
    "\n",
    "phonon_bs.plot(ax=axs)\n",
    "fig.suptitle(\"Phonon band structure\", fontsize=16)\n",
    "plt.subplots_adjust(wspace=0.07)\n",
    "plt.show()\n"
   ]
  },
  {
   "cell_type": "code",
   "execution_count": null,
   "id": "d157a89d",
   "metadata": {},
   "outputs": [],
   "source": [
    "phonon_dos = data_ph[\"phonon\"].total_dos\n",
    "\n",
    "fig, ax = plt.subplots(figsize=(8, 5))\n",
    "phonon_dos.plot(ax=ax)\n",
    "fig.suptitle(\"Phonon DOS\", fontsize=16)\n",
    "plt.show()"
   ]
  },
  {
   "cell_type": "code",
   "execution_count": null,
   "id": "c11a8e2e",
   "metadata": {},
   "outputs": [],
   "source": [
    "plt.plot(\n",
    "    data_ph['thermal_properties']['temperatures'],\n",
    "    data_ph['thermal_properties']['heat_capacity']\n",
    ")\n",
    "\n",
    "plt.xlabel(\"Temperature (K)\")\n",
    "plt.ylabel('Heat Capacity (J/mol-K)')\n",
    "plt.title(\"Heat Capacity vs Temperature\")\n",
    "plt.show()"
   ]
  }
 ],
 "metadata": {
  "kernelspec": {
   "display_name": "matsimx",
   "language": "python",
   "name": "python3"
  },
  "language_info": {
   "codemirror_mode": {
    "name": "ipython",
    "version": 3
   },
   "file_extension": ".py",
   "mimetype": "text/x-python",
   "name": "python",
   "nbconvert_exporter": "python",
   "pygments_lexer": "ipython3",
   "version": "3.12.3"
  }
 },
 "nbformat": 4,
 "nbformat_minor": 5
}
