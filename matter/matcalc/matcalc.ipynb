{
 "cells": [
  {
   "cell_type": "code",
   "execution_count": null,
   "id": "a8a7a61d",
   "metadata": {},
   "outputs": [],
   "source": [
    "import os\n",
    "from pathlib import Path\n",
    "\n",
    "import crystal_toolkit  # noqa: F401\n",
    "from pymatgen.core import Structure"
   ]
  },
  {
   "cell_type": "code",
   "execution_count": 52,
   "id": "b71422dc",
   "metadata": {},
   "outputs": [
    {
     "data": {
      "text/html": [
       "\n",
       "        <iframe\n",
       "            width=\"100%\"\n",
       "            height=\"650\"\n",
       "            src=\"http://127.0.0.1:8884/\"\n",
       "            frameborder=\"0\"\n",
       "            allowfullscreen\n",
       "            \n",
       "        ></iframe>\n",
       "        "
      ],
      "text/plain": [
       "<IPython.lib.display.IFrame at 0x203b936c190>"
      ]
     },
     "metadata": {},
     "output_type": "display_data"
    }
   ],
   "source": [
    "# batch_name = \"bandgap3.5b1\"\n",
    "batch_name = \"ferrite\"\n",
    "batch_path = \"../output\"\n",
    "cif_name = \"2_POSCAR-0.25\"\n",
    "cif_path = os.path.abspath(os.path.join(batch_path, batch_name, \"extracted\", f\"{cif_name}\"))\n",
    "\n",
    "print(f\"Loading {cif_path}\")\n",
    "\n",
    "struct_expt = Structure.from_file(cif_path)\n",
    "print(struct_expt)\n",
    "struct_expt"
   ]
  },
  {
   "cell_type": "code",
   "execution_count": 54,
   "id": "a7876393",
   "metadata": {},
   "outputs": [
    {
     "name": "stdout",
     "output_type": "stream",
     "text": [
      "Reduced formula: Mn3Zn(FeO2)8\n"
     ]
    }
   ],
   "source": [
    "# get reduced formula\n",
    "reduced_formula = struct_expt.composition.reduced_formula\n",
    "print(f\"Reduced formula: {reduced_formula}\")\n",
    "\n",
    "output_dir = f\"{batch_name}-{cif_name}-{reduced_formula}\"\n",
    "\n",
    "# mkdir in output folder named reduced_formula\n",
    "os.makedirs(f\"output/{output_dir}\", exist_ok=True)"
   ]
  },
  {
   "cell_type": "markdown",
   "id": "56c4a0f9",
   "metadata": {},
   "source": [
    "## pbe"
   ]
  },
  {
   "cell_type": "code",
   "execution_count": null,
   "id": "30c5ce24",
   "metadata": {},
   "outputs": [],
   "source": [
    "# # Relax with pbe\n",
    "\n",
    "# import matcalc\n",
    "\n",
    "# calculator_pbe = matcalc.load_fp(\"pbe\")\n",
    "# relax_calc = matcalc.RelaxCalc( # type: ignore\n",
    "#     calculator_pbe,\n",
    "#     optimizer=\"FIRE\",\n",
    "#     relax_atoms=True,\n",
    "#     relax_cell=True\n",
    "# )\n",
    "\n",
    "# data = relax_calc.calc(struct_expt)\n",
    "\n",
    "# final_structure_pbe = data['final_structure']\n",
    "# print(final_structure_pbe)\n",
    "# final_structure_pbe\n",
    "\n",
    "# # Save the final structure\n",
    "# final_structure_pbe.to(fmt=\"poscar\", filename=f\"output/{output_dir}/POSCAR_pbe\")"
   ]
  },
  {
   "cell_type": "code",
   "execution_count": null,
   "id": "8cb51a6c",
   "metadata": {},
   "outputs": [],
   "source": [
    "# phonon_calc = matcalc.PhononCalc( # type: ignore\n",
    "#     calculator_pbe,\n",
    "#     relax_structure=True,\n",
    "#     write_band_structure=f\"output/{output_dir}/pbe_phonon_bs.yaml\",\n",
    "#     write_total_dos=f\"output/{output_dir}/pbe_phonon_dos.dat\",\n",
    "#     write_phonon=f\"output/{output_dir}/pbe_phonon.yaml\",\n",
    "#     optimizer=\"FIRE\",\n",
    "# )\n",
    "\n",
    "# data_phonon_pbe = phonon_calc.calc(final_structure_pbe)"
   ]
  },
  {
   "cell_type": "code",
   "execution_count": null,
   "id": "56b322bf",
   "metadata": {},
   "outputs": [],
   "source": [
    "# import matplotlib.pyplot as plt\n",
    "\n",
    "# phonon_bs = data_phonon_pbe['phonon'].band_structure\n",
    "\n",
    "# n_axes = sum(1 for c in phonon_bs.path_connections if not c)\n",
    "\n",
    "# fig, axs = plt.subplots(1, n_axes, figsize=(16, 5))\n",
    "\n",
    "# if n_axes == 1:\n",
    "#     axs = [axs]\n",
    "\n",
    "# for ax in axs[1:]:\n",
    "#     ax.set_ylabel('')\n",
    "#     ax.tick_params(axis='y', labelleft=False)\n",
    "\n",
    "# phonon_bs.plot(ax=axs)\n",
    "# fig.suptitle(\"Phonon band structure\", fontsize=16)\n",
    "# plt.subplots_adjust(wspace=0.07)\n",
    "# plt.show()\n"
   ]
  },
  {
   "cell_type": "code",
   "execution_count": null,
   "id": "6480e6a0",
   "metadata": {},
   "outputs": [],
   "source": [
    "# phonon_dos = data_phonon_pbe[\"phonon\"].total_dos\n",
    "\n",
    "# fig, ax = plt.subplots(figsize=(8, 5))\n",
    "# phonon_dos.plot(ax=ax)\n",
    "# fig.suptitle(\"Phonon DOS\", fontsize=16)\n",
    "# plt.show()"
   ]
  },
  {
   "cell_type": "code",
   "execution_count": null,
   "id": "9f5738d6",
   "metadata": {},
   "outputs": [],
   "source": [
    "# plt.plot(\n",
    "#     data_phonon_pbe['thermal_properties']['temperatures'],\n",
    "#     data_phonon_pbe['thermal_properties']['heat_capacity']\n",
    "# )\n",
    "\n",
    "# plt.xlabel(\"Temperature (K)\")\n",
    "# plt.ylabel('Heat Capacity (J/mol-K)')\n",
    "# plt.title(\"Heat Capacity vs Temperature\")\n",
    "# plt.show()"
   ]
  },
  {
   "cell_type": "markdown",
   "id": "a784d4a7",
   "metadata": {},
   "source": [
    "## r2scan"
   ]
  },
  {
   "cell_type": "code",
   "execution_count": null,
   "id": "4f35b5c4",
   "metadata": {},
   "outputs": [],
   "source": [
    "## Relax with r2scan\n",
    "\n",
    "import matcalc\n",
    "\n",
    "calculator_r2scan = matcalc.load_fp(\"r2scan\")\n",
    "relax_calc = matcalc.RelaxCalc(\n",
    "    calculator_r2scan,\n",
    "    optimizer=\"FIRE\",\n",
    "    relax_atoms=True,\n",
    "    relax_cell=True\n",
    ")\n",
    "\n",
    "data_r2scan = relax_calc.calc(struct_expt)\n"
   ]
  },
  {
   "cell_type": "code",
   "execution_count": null,
   "id": "cafa6c88",
   "metadata": {},
   "outputs": [],
   "source": [
    "final_structure_r2scan = data_r2scan['final_structure']\n",
    "print(final_structure_r2scan)\n",
    "final_structure_r2scan\n",
    "\n",
    "# Save the final structure\n",
    "final_structure_r2scan.to(fmt=\"poscar\", filename=f\"output/{output_dir}/POSCAR_r2scan\")"
   ]
  },
  {
   "cell_type": "code",
   "execution_count": null,
   "id": "f5ba2852",
   "metadata": {},
   "outputs": [],
   "source": [
    "phonon_calc = matcalc.PhononCalc( # type: ignore\n",
    "    calculator_r2scan,\n",
    "    relax_structure=True,\n",
    "    write_band_structure=f\"output/{output_dir}/r2scan_phonon_bs.yaml\",\n",
    "    write_total_dos=f\"output/{output_dir}/r2scan_phonon_dos.dat\",\n",
    "    write_phonon=f\"output/{output_dir}/r2scan_phonon.yaml\",\n",
    "    optimizer=\"FIRE\",\n",
    ")\n",
    "\n",
    "data_phonon_r2scan = phonon_calc.calc(final_structure_r2scan)"
   ]
  },
  {
   "cell_type": "code",
   "execution_count": null,
   "id": "b575ff9a",
   "metadata": {},
   "outputs": [],
   "source": [
    "import matplotlib.pyplot as plt\n",
    "\n",
    "phonon_bs = data_phonon_r2scan['phonon'].band_structure\n",
    "\n",
    "n_axes = sum(1 for c in phonon_bs.path_connections if not c)\n",
    "\n",
    "fig, axs = plt.subplots(1, n_axes, figsize=(16, 5))\n",
    "\n",
    "if n_axes == 1:\n",
    "    axs = [axs]\n",
    "\n",
    "for ax in axs[1:]:\n",
    "    ax.set_ylabel('')\n",
    "    ax.tick_params(axis='y', labelleft=False)\n",
    "\n",
    "phonon_bs.plot(ax=axs)\n",
    "fig.suptitle(\"Phonon band structure\", fontsize=16)\n",
    "plt.subplots_adjust(wspace=0.07)\n",
    "plt.show()\n"
   ]
  },
  {
   "cell_type": "code",
   "execution_count": null,
   "id": "d7c3e198",
   "metadata": {},
   "outputs": [],
   "source": [
    "phonon_dos = data_phonon_r2scan[\"phonon\"].total_dos\n",
    "\n",
    "fig, ax = plt.subplots(figsize=(8, 5))\n",
    "phonon_dos.plot(ax=ax)\n",
    "fig.suptitle(\"Phonon DOS\", fontsize=16)\n",
    "plt.show()"
   ]
  },
  {
   "cell_type": "code",
   "execution_count": null,
   "id": "ff98c9a5",
   "metadata": {},
   "outputs": [],
   "source": [
    "plt.plot(\n",
    "    data_phonon_r2scan['thermal_properties']['temperatures'],\n",
    "    data_phonon_r2scan['thermal_properties']['heat_capacity']\n",
    ")\n",
    "\n",
    "plt.xlabel(\"Temperature (K)\")\n",
    "plt.ylabel('Heat Capacity (J/mol-K)')\n",
    "plt.title(\"Heat Capacity vs Temperature\")\n",
    "plt.show()"
   ]
  },
  {
   "cell_type": "code",
   "execution_count": null,
   "id": "84243a56",
   "metadata": {},
   "outputs": [],
   "source": [
    "import yaml\n",
    "import numpy as np\n",
    "import matplotlib.pyplot as plt\n",
    "from pymatgen.core import Structure\n",
    "\n",
    "def plot_phonon_band(band_yaml_file, structure_file):\n",
    "    \"\"\"\n",
    "    Plot phonon dispersion directly from band.yaml (even if 'lattice_rec' is missing).\n",
    "    Imaginary frequencies are shown in red.\n",
    "    \"\"\"\n",
    "    try:\n",
    "        structure = Structure.from_file(structure_file)\n",
    "        with open(band_yaml_file, \"r\") as f:\n",
    "            data = yaml.safe_load(f)\n",
    "\n",
    "        q_labels = [p[\"label\"] if \"label\" in p else \"\" for p in data.get(\"labels\", [])]\n",
    "        q_distances = []\n",
    "        frequencies = []\n",
    "\n",
    "        # Extract phonon data\n",
    "        for point in data[\"phonon\"]:\n",
    "            q_distances.append(point[\"distance\"])\n",
    "            freqs = [band[\"frequency\"] for band in point[\"band\"]]\n",
    "            frequencies.append(freqs)\n",
    "\n",
    "        q_distances = np.array(q_distances)\n",
    "        frequencies = np.array(frequencies)\n",
    "\n",
    "        # Plot\n",
    "        plt.figure(figsize=(10, 6))\n",
    "        for i in range(frequencies.shape[1]):\n",
    "            freq_branch = frequencies[:, i]\n",
    "            plt.plot(q_distances, freq_branch,\n",
    "                     color=\"red\" if np.any(freq_branch < 0) else \"black\", lw=1.2)\n",
    "\n",
    "        plt.axhline(0, color=\"gray\", lw=0.8)\n",
    "        plt.xlabel(\"Wave vector path\")\n",
    "        plt.ylabel(\"Frequency (THz)\")\n",
    "        plt.title(\"Phonon Band Structure\")\n",
    "        plt.grid(alpha=0.2)\n",
    "        plt.show()\n",
    "\n",
    "        min_freq = np.min(frequencies)\n",
    "        if min_freq < 0:\n",
    "            print(f\"❌ Imaginary frequencies detected (min = {min_freq:.3f} THz). Material unstable.\")\n",
    "        else:\n",
    "            print(f\"✅ All frequencies positive (min = {min_freq:.3f} THz). Material stable.\")\n",
    "\n",
    "    except Exception as e:\n",
    "        print(f\"⚠️ Error while plotting phonon band: {e}\")\n",
    "\n",
    "band_file = f\"output/{output_dir}/r2scan_phonon_bs.yaml\"\n",
    "structure_file = f\"output/{output_dir}/POSCAR_r2scan\"\n",
    "\n",
    "plot_phonon_band(band_file, structure_file)"
   ]
  }
 ],
 "metadata": {
  "kernelspec": {
   "display_name": "matsim",
   "language": "python",
   "name": "python3"
  },
  "language_info": {
   "codemirror_mode": {
    "name": "ipython",
    "version": 3
   },
   "file_extension": ".py",
   "mimetype": "text/x-python",
   "name": "python",
   "nbconvert_exporter": "python",
   "pygments_lexer": "ipython3",
   "version": "3.10.18"
  }
 },
 "nbformat": 4,
 "nbformat_minor": 5
}
