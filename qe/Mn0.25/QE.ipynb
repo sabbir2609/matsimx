{
  "cells": [
    {
      "cell_type": "code",
      "execution_count": null,
      "metadata": {
        "colab": {
          "base_uri": "https://localhost:8080/"
        },
        "collapsed": true,
        "id": "oggcWU-Jl1Gm",
        "outputId": "0bbb8f26-096f-4d09-be9e-db0f285b6a64"
      },
      "outputs": [],
      "source": [
        "# install quantum espresso from conda\n",
        "# !conda install conda-forge::qe\n",
        "# !pip install ase"
      ]
    },
    {
      "cell_type": "code",
      "execution_count": 10,
      "metadata": {
        "id": "ADXkwCDWnIjS"
      },
      "outputs": [
        {
          "ename": "CalledProcessError",
          "evalue": "Command '['/opt/conda/bin/pw.x', '-in', 'espresso.pwi']' returned non-zero exit status 1.",
          "output_type": "error",
          "traceback": [
            "\u001b[31m---------------------------------------------------------------------------\u001b[39m",
            "\u001b[31mCalledProcessError\u001b[39m                        Traceback (most recent call last)",
            "\u001b[36mCell\u001b[39m\u001b[36m \u001b[39m\u001b[32mIn[10]\u001b[39m\u001b[32m, line 65\u001b[39m\n\u001b[32m     52\u001b[39m calc = Espresso(\n\u001b[32m     53\u001b[39m     profile=profile,\n\u001b[32m     54\u001b[39m     pseudopotentials=pseudos,\n\u001b[32m   (...)\u001b[39m\u001b[32m     61\u001b[39m     ],\n\u001b[32m     62\u001b[39m )\n\u001b[32m     64\u001b[39m atoms.calc = calc\n\u001b[32m---> \u001b[39m\u001b[32m65\u001b[39m energy = \u001b[43matoms\u001b[49m\u001b[43m.\u001b[49m\u001b[43mget_potential_energy\u001b[49m\u001b[43m(\u001b[49m\u001b[43m)\u001b[49m\n\u001b[32m     66\u001b[39m \u001b[38;5;28mprint\u001b[39m(\u001b[33m\"\u001b[39m\u001b[33mTotal energy (eV):\u001b[39m\u001b[33m\"\u001b[39m, energy)\n",
            "\u001b[36mFile \u001b[39m\u001b[32m/opt/conda/lib/python3.12/site-packages/ase/atoms.py:835\u001b[39m, in \u001b[36mAtoms.get_potential_energy\u001b[39m\u001b[34m(self, force_consistent, apply_constraint)\u001b[39m\n\u001b[32m    832\u001b[39m     energy = \u001b[38;5;28mself\u001b[39m._calc.get_potential_energy(\n\u001b[32m    833\u001b[39m         \u001b[38;5;28mself\u001b[39m, force_consistent=force_consistent)\n\u001b[32m    834\u001b[39m \u001b[38;5;28;01melse\u001b[39;00m:\n\u001b[32m--> \u001b[39m\u001b[32m835\u001b[39m     energy = \u001b[38;5;28;43mself\u001b[39;49m\u001b[43m.\u001b[49m\u001b[43m_calc\u001b[49m\u001b[43m.\u001b[49m\u001b[43mget_potential_energy\u001b[49m\u001b[43m(\u001b[49m\u001b[38;5;28;43mself\u001b[39;49m\u001b[43m)\u001b[49m\n\u001b[32m    836\u001b[39m \u001b[38;5;28;01mif\u001b[39;00m apply_constraint:\n\u001b[32m    837\u001b[39m     \u001b[38;5;28;01mfor\u001b[39;00m constraint \u001b[38;5;129;01min\u001b[39;00m \u001b[38;5;28mself\u001b[39m.constraints:\n",
            "\u001b[36mFile \u001b[39m\u001b[32m/opt/conda/lib/python3.12/site-packages/ase/calculators/abc.py:26\u001b[39m, in \u001b[36mGetPropertiesMixin.get_potential_energy\u001b[39m\u001b[34m(self, atoms, force_consistent)\u001b[39m\n\u001b[32m     24\u001b[39m \u001b[38;5;28;01melse\u001b[39;00m:\n\u001b[32m     25\u001b[39m     name = \u001b[33m'\u001b[39m\u001b[33menergy\u001b[39m\u001b[33m'\u001b[39m\n\u001b[32m---> \u001b[39m\u001b[32m26\u001b[39m \u001b[38;5;28;01mreturn\u001b[39;00m \u001b[38;5;28;43mself\u001b[39;49m\u001b[43m.\u001b[49m\u001b[43mget_property\u001b[49m\u001b[43m(\u001b[49m\u001b[43mname\u001b[49m\u001b[43m,\u001b[49m\u001b[43m \u001b[49m\u001b[43matoms\u001b[49m\u001b[43m)\u001b[49m\n",
            "\u001b[36mFile \u001b[39m\u001b[32m/opt/conda/lib/python3.12/site-packages/ase/calculators/calculator.py:519\u001b[39m, in \u001b[36mBaseCalculator.get_property\u001b[39m\u001b[34m(self, name, atoms, allow_calculation)\u001b[39m\n\u001b[32m    516\u001b[39m     \u001b[38;5;28;01mif\u001b[39;00m \u001b[38;5;28mself\u001b[39m.use_cache:\n\u001b[32m    517\u001b[39m         \u001b[38;5;28mself\u001b[39m.atoms = atoms.copy()\n\u001b[32m--> \u001b[39m\u001b[32m519\u001b[39m     \u001b[38;5;28;43mself\u001b[39;49m\u001b[43m.\u001b[49m\u001b[43mcalculate\u001b[49m\u001b[43m(\u001b[49m\u001b[43matoms\u001b[49m\u001b[43m,\u001b[49m\u001b[43m \u001b[49m\u001b[43m[\u001b[49m\u001b[43mname\u001b[49m\u001b[43m]\u001b[49m\u001b[43m,\u001b[49m\u001b[43m \u001b[49m\u001b[43msystem_changes\u001b[49m\u001b[43m)\u001b[49m\n\u001b[32m    521\u001b[39m \u001b[38;5;28;01mif\u001b[39;00m name \u001b[38;5;129;01mnot\u001b[39;00m \u001b[38;5;129;01min\u001b[39;00m \u001b[38;5;28mself\u001b[39m.results:\n\u001b[32m    522\u001b[39m     \u001b[38;5;66;03m# For some reason the calculator was not able to do what we want,\u001b[39;00m\n\u001b[32m    523\u001b[39m     \u001b[38;5;66;03m# and that is OK.\u001b[39;00m\n\u001b[32m    524\u001b[39m     \u001b[38;5;28;01mraise\u001b[39;00m PropertyNotImplementedError(\n\u001b[32m    525\u001b[39m         \u001b[33m'\u001b[39m\u001b[38;5;132;01m{}\u001b[39;00m\u001b[33m not present in this \u001b[39m\u001b[33m'\u001b[39m \u001b[33m'\u001b[39m\u001b[33mcalculation\u001b[39m\u001b[33m'\u001b[39m.format(name)\n\u001b[32m    526\u001b[39m     )\n",
            "\u001b[36mFile \u001b[39m\u001b[32m/opt/conda/lib/python3.12/site-packages/ase/calculators/genericfileio.py:335\u001b[39m, in \u001b[36mGenericFileIOCalculator.calculate\u001b[39m\u001b[34m(self, atoms, properties, system_changes)\u001b[39m\n\u001b[32m    333\u001b[39m \u001b[38;5;28;01mdef\u001b[39;00m\u001b[38;5;250m \u001b[39m\u001b[34mcalculate\u001b[39m(\u001b[38;5;28mself\u001b[39m, atoms, properties, system_changes):\n\u001b[32m    334\u001b[39m     \u001b[38;5;28mself\u001b[39m.write_inputfiles(atoms, properties)\n\u001b[32m--> \u001b[39m\u001b[32m335\u001b[39m     \u001b[38;5;28;43mself\u001b[39;49m\u001b[43m.\u001b[49m\u001b[43mtemplate\u001b[49m\u001b[43m.\u001b[49m\u001b[43mexecute\u001b[49m\u001b[43m(\u001b[49m\u001b[38;5;28;43mself\u001b[39;49m\u001b[43m.\u001b[49m\u001b[43mdirectory\u001b[49m\u001b[43m,\u001b[49m\u001b[43m \u001b[49m\u001b[38;5;28;43mself\u001b[39;49m\u001b[43m.\u001b[49m\u001b[43mprofile\u001b[49m\u001b[43m)\u001b[49m\n\u001b[32m    336\u001b[39m     \u001b[38;5;28mself\u001b[39m.results = \u001b[38;5;28mself\u001b[39m.template.read_results(\u001b[38;5;28mself\u001b[39m.directory)\n",
            "\u001b[36mFile \u001b[39m\u001b[32m/opt/conda/lib/python3.12/site-packages/ase/calculators/espresso.py:89\u001b[39m, in \u001b[36mEspressoTemplate.execute\u001b[39m\u001b[34m(self, directory, profile)\u001b[39m\n\u001b[32m     88\u001b[39m \u001b[38;5;28;01mdef\u001b[39;00m\u001b[38;5;250m \u001b[39m\u001b[34mexecute\u001b[39m(\u001b[38;5;28mself\u001b[39m, directory, profile):\n\u001b[32m---> \u001b[39m\u001b[32m89\u001b[39m     \u001b[43mprofile\u001b[49m\u001b[43m.\u001b[49m\u001b[43mrun\u001b[49m\u001b[43m(\u001b[49m\u001b[43mdirectory\u001b[49m\u001b[43m,\u001b[49m\u001b[43m \u001b[49m\u001b[38;5;28;43mself\u001b[39;49m\u001b[43m.\u001b[49m\u001b[43minputname\u001b[49m\u001b[43m,\u001b[49m\u001b[43m \u001b[49m\u001b[38;5;28;43mself\u001b[39;49m\u001b[43m.\u001b[49m\u001b[43moutputname\u001b[49m\u001b[43m,\u001b[49m\n\u001b[32m     90\u001b[39m \u001b[43m                \u001b[49m\u001b[43merrorfile\u001b[49m\u001b[43m=\u001b[49m\u001b[38;5;28;43mself\u001b[39;49m\u001b[43m.\u001b[49m\u001b[43merrorname\u001b[49m\u001b[43m)\u001b[49m\n",
            "\u001b[36mFile \u001b[39m\u001b[32m/opt/conda/lib/python3.12/site-packages/ase/calculators/genericfileio.py:103\u001b[39m, in \u001b[36mBaseProfile.run\u001b[39m\u001b[34m(self, directory, inputfile, outputfile, errorfile, append)\u001b[39m\n\u001b[32m    101\u001b[39m \u001b[38;5;28;01melse\u001b[39;00m:\n\u001b[32m    102\u001b[39m     fd_err = \u001b[38;5;28;01mNone\u001b[39;00m\n\u001b[32m--> \u001b[39m\u001b[32m103\u001b[39m \u001b[43mcheck_call\u001b[49m\u001b[43m(\u001b[49m\n\u001b[32m    104\u001b[39m \u001b[43m    \u001b[49m\u001b[43margv_command\u001b[49m\u001b[43m,\u001b[49m\n\u001b[32m    105\u001b[39m \u001b[43m    \u001b[49m\u001b[43mcwd\u001b[49m\u001b[43m=\u001b[49m\u001b[43mdirectory\u001b[49m\u001b[43m,\u001b[49m\n\u001b[32m    106\u001b[39m \u001b[43m    \u001b[49m\u001b[43mstdout\u001b[49m\u001b[43m=\u001b[49m\u001b[43mfd_out\u001b[49m\u001b[43m,\u001b[49m\n\u001b[32m    107\u001b[39m \u001b[43m    \u001b[49m\u001b[43mstderr\u001b[49m\u001b[43m=\u001b[49m\u001b[43mfd_err\u001b[49m\u001b[43m,\u001b[49m\n\u001b[32m    108\u001b[39m \u001b[43m    \u001b[49m\u001b[43menv\u001b[49m\u001b[43m=\u001b[49m\u001b[43mos\u001b[49m\u001b[43m.\u001b[49m\u001b[43menviron\u001b[49m\u001b[43m,\u001b[49m\n\u001b[32m    109\u001b[39m \u001b[43m\u001b[49m\u001b[43m)\u001b[49m\n",
            "\u001b[36mFile \u001b[39m\u001b[32m/opt/conda/lib/python3.12/subprocess.py:413\u001b[39m, in \u001b[36mcheck_call\u001b[39m\u001b[34m(*popenargs, **kwargs)\u001b[39m\n\u001b[32m    411\u001b[39m     \u001b[38;5;28;01mif\u001b[39;00m cmd \u001b[38;5;129;01mis\u001b[39;00m \u001b[38;5;28;01mNone\u001b[39;00m:\n\u001b[32m    412\u001b[39m         cmd = popenargs[\u001b[32m0\u001b[39m]\n\u001b[32m--> \u001b[39m\u001b[32m413\u001b[39m     \u001b[38;5;28;01mraise\u001b[39;00m CalledProcessError(retcode, cmd)\n\u001b[32m    414\u001b[39m \u001b[38;5;28;01mreturn\u001b[39;00m \u001b[32m0\u001b[39m\n",
            "\u001b[31mCalledProcessError\u001b[39m: Command '['/opt/conda/bin/pw.x', '-in', 'espresso.pwi']' returned non-zero exit status 1."
          ]
        }
      ],
      "source": [
        "from ase.io import read\n",
        "from ase.calculators.espresso import Espresso, EspressoProfile\n",
        "\n",
        "atoms = read(\"Mn0.25Zn0.75(FeO2)2.cif\")  # Replace with your actual file\n",
        "\n",
        "pseudos = {\n",
        "    \"Fe\": \"Fe.pbe-spn-kjpaw_psl.0.2.1.UPF\",\n",
        "    \"Mn\": \"mn_pbe_v1.5.uspp.F.UPF\",\n",
        "    \"O\": \"O.pbe-n-kjpaw_psl.0.1.UPF\",\n",
        "    \"Zn\": \"Zn_pbe_v1.uspp.F.UPF\",\n",
        "}\n",
        "\n",
        "profile = EspressoProfile(command=\"/opt/conda/bin/pw.x\", pseudo_dir=\"./pseudo\")\n",
        "\n",
        "input_data = {\n",
        "    \"control\": {\n",
        "        \"calculation\": \"scf\",\n",
        "        \"etot_conv_thr\": 5.6e-3,\n",
        "        \"forc_conv_thr\": 1e-3,\n",
        "        \"outdir\": \"./out/\",\n",
        "        \"prefix\": \"aiida\",\n",
        "        \"pseudo_dir\": \"./pseudo/\",\n",
        "        \"tprnfor\": True,\n",
        "        \"tstress\": True,\n",
        "        \"verbosity\": \"high\",\n",
        "    },\n",
        "    \"system\": {\n",
        "        \"degauss\": 0.0275,\n",
        "        \"ecutrho\": 1080,\n",
        "        \"ecutwfc\": 90,\n",
        "        \"ibrav\": 0,\n",
        "        \"nat\": 56,\n",
        "        \"nosym\": False,\n",
        "        \"nspin\": 2,\n",
        "        \"ntyp\": 4,\n",
        "        \"occupations\": \"smearing\",\n",
        "        \"smearing\": \"cold\",\n",
        "        \"starting_magnetization\": {\n",
        "            \"Fe\": 0.3125,\n",
        "            \"Mn\": 0.3333,\n",
        "            \"O\": 0.1,\n",
        "            \"Zn\": 0.1,\n",
        "        },\n",
        "    },\n",
        "    \"electrons\": {\n",
        "        \"conv_thr\": 2.24e-8,\n",
        "        \"electron_maxstep\": 80,\n",
        "        \"mixing_beta\": 0.4,\n",
        "    },\n",
        "}\n",
        "\n",
        "calc = Espresso(\n",
        "    profile=profile,\n",
        "    pseudopotentials=pseudos,\n",
        "    kpts=(1, 1, 1),\n",
        "    input_data=input_data,\n",
        "    cell=[\n",
        "        [8.1792, 0.0, 0.0],\n",
        "        [0.0, 8.1792, 0.0],\n",
        "        [0.0, 0.0, 8.1792],\n",
        "    ],\n",
        ")\n",
        "\n",
        "atoms.calc = calc\n",
        "energy = atoms.get_potential_energy()\n",
        "print(\"Total energy (eV):\", energy)\n"
      ]
    },
    {
      "cell_type": "markdown",
      "metadata": {
        "id": "g2ORM6BZR9_Y"
      },
      "source": [
        "### Update calculator for Band calculation"
      ]
    },
    {
      "cell_type": "code",
      "execution_count": null,
      "metadata": {
        "id": "Q1LQa5MDuuKX"
      },
      "outputs": [],
      "source": [
        "fermi_level = calc.get_fermi_level()"
      ]
    },
    {
      "cell_type": "code",
      "execution_count": null,
      "metadata": {
        "id": "qwK5zx0Su5uP"
      },
      "outputs": [],
      "source": [
        "# Get the lattice and band path\n",
        "lattice = struct.get_cell()\n",
        "bandpath = lattice.bandpath(npoints=50)\n",
        "input_data['control'].update({'calculation':'bands','restart_mode':'restart','verbosity':'high'})\n",
        "# Set up the calculator for band structure calculation"
      ]
    },
    {
      "cell_type": "code",
      "execution_count": null,
      "metadata": {
        "id": "WFtEGh7KB92g"
      },
      "outputs": [],
      "source": [
        "struct.calc = Espresso(profile=profile,\n",
        "    pseudopotentials=pseudo_dict, kpts={'path': bandpath.kpts},\n",
        "    input_data=input_data)\n"
      ]
    },
    {
      "cell_type": "markdown",
      "metadata": {
        "id": "a7UkIXYqSKCj"
      },
      "source": [
        "### Start Band calculation"
      ]
    },
    {
      "cell_type": "code",
      "execution_count": null,
      "metadata": {
        "id": "Unu72z7XCICz"
      },
      "outputs": [],
      "source": [
        "struct.calc.calculate(struct, [], [])"
      ]
    },
    {
      "cell_type": "code",
      "execution_count": null,
      "metadata": {
        "id": "OcPdZNlMDQDX"
      },
      "outputs": [],
      "source": [
        "from ase.spectrum.band_structure import BandStructure, get_band_structure\n",
        "bands = get_band_structure(struct, reference=fermi_level)"
      ]
    },
    {
      "cell_type": "code",
      "execution_count": null,
      "metadata": {
        "colab": {
          "base_uri": "https://localhost:8080/",
          "height": 447
        },
        "id": "dMlnUwxjFybL",
        "outputId": "4c78d338-def9-43e6-9abe-aa3720bf9d88"
      },
      "outputs": [],
      "source": [
        "bands.plot(show=True, emin=fermi_level - 5, emax=fermi_level + 5.0)"
      ]
    },
    {
      "cell_type": "code",
      "execution_count": null,
      "metadata": {
        "colab": {
          "base_uri": "https://localhost:8080/"
        },
        "id": "zcgw33HlGPu3",
        "outputId": "e8b7a278-8ecd-4ca0-cc84-667a7b299d79"
      },
      "outputs": [],
      "source": [
        "! ls"
      ]
    }
  ],
  "metadata": {
    "colab": {
      "authorship_tag": "ABX9TyP1fWvPIHy6WwoT+MA7067t",
      "include_colab_link": true,
      "provenance": []
    },
    "kernelspec": {
      "display_name": "base",
      "language": "python",
      "name": "python3"
    },
    "language_info": {
      "codemirror_mode": {
        "name": "ipython",
        "version": 3
      },
      "file_extension": ".py",
      "mimetype": "text/x-python",
      "name": "python",
      "nbconvert_exporter": "python",
      "pygments_lexer": "ipython3",
      "version": "3.12.2"
    }
  },
  "nbformat": 4,
  "nbformat_minor": 0
}
