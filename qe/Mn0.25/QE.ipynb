{
  "cells": [
    {
      "cell_type": "code",
      "execution_count": null,
      "metadata": {
        "colab": {
          "base_uri": "https://localhost:8080/"
        },
        "collapsed": true,
        "id": "oggcWU-Jl1Gm",
        "outputId": "0bbb8f26-096f-4d09-be9e-db0f285b6a64"
      },
      "outputs": [],
      "source": [
        "# install quantum espresso from conda\n",
        "# !conda install conda-forge::qe\n",
        "# !pip install ase"
      ]
    },
    {
      "cell_type": "code",
      "execution_count": null,
      "metadata": {
        "id": "ADXkwCDWnIjS"
      },
      "outputs": [],
      "source": [
        "from ase.io import read\n",
        "from ase.calculators.espresso import Espresso, EspressoProfile\n",
        "\n",
        "atoms = read(\"Mn0.25Zn0.75(FeO2)2.cif\")  # Replace with your actual file\n",
        "\n",
        "pseudos = {\n",
        "    \"Fe\": \"Fe.pbe-spn-kjpaw_psl.0.2.1.UPF\",\n",
        "    \"Mn\": \"mn_pbe_v1.5.uspp.F.UPF\",\n",
        "    \"O\": \"O.pbe-n-kjpaw_psl.0.1.UPF\",\n",
        "    \"Zn\": \"Zn_pbe_v1.uspp.F.UPF\",\n",
        "}\n",
        "\n",
        "profile = EspressoProfile(command=\"/opt/conda/bin/pw.x\", pseudo_dir=\"./pseudo\")\n",
        "\n",
        "input_data = {\n",
        "    \"control\": {\n",
        "        \"calculation\": \"scf\",\n",
        "        \"etot_conv_thr\": 5.6e-3,\n",
        "        \"forc_conv_thr\": 1e-3,\n",
        "        \"outdir\": \"./out/\",\n",
        "        \"prefix\": \"aiida\",\n",
        "        \"pseudo_dir\": \"./pseudo/\",\n",
        "        \"tprnfor\": True,\n",
        "        \"tstress\": True,\n",
        "        \"verbosity\": \"high\",\n",
        "    },\n",
        "    \"system\": {\n",
        "        \"degauss\": 0.0275,\n",
        "        \"ecutrho\": 1080,\n",
        "        \"ecutwfc\": 90,\n",
        "        \"ibrav\": 0,\n",
        "        \"nat\": 56,\n",
        "        \"nosym\": False,\n",
        "        \"nspin\": 2,\n",
        "        \"ntyp\": 4,\n",
        "        \"occupations\": \"smearing\",\n",
        "        \"smearing\": \"cold\",\n",
        "        \"starting_magnetization\": {\n",
        "            \"Fe\": 0.3125,\n",
        "            \"Mn\": 0.3333,\n",
        "            \"O\": 0.1,\n",
        "            \"Zn\": 0.1,\n",
        "        },\n",
        "    },\n",
        "    \"electrons\": {\n",
        "        \"conv_thr\": 2.24e-8,\n",
        "        \"electron_maxstep\": 80,\n",
        "        \"mixing_beta\": 0.4,\n",
        "    },\n",
        "}\n",
        "\n",
        "calc = Espresso(\n",
        "    profile=profile,\n",
        "    pseudopotentials=pseudos,\n",
        "    kpts=(3, 3, 3),\n",
        "    input_data=input_data,\n",
        "    cell=[\n",
        "        [8.1792, 0.0, 0.0],\n",
        "        [0.0, 8.1792, 0.0],\n",
        "        [0.0, 0.0, 8.1792],\n",
        "    ],\n",
        ")\n",
        "\n",
        "atoms.calc = calc\n",
        "energy = atoms.get_potential_energy()\n",
        "print(\"Total energy (eV):\", energy)\n"
      ]
    },
    {
      "cell_type": "markdown",
      "metadata": {
        "id": "g2ORM6BZR9_Y"
      },
      "source": [
        "### Update calculator for Band calculation"
      ]
    },
    {
      "cell_type": "code",
      "execution_count": null,
      "metadata": {
        "id": "Q1LQa5MDuuKX"
      },
      "outputs": [],
      "source": [
        "fermi_level = calc.get_fermi_level()"
      ]
    },
    {
      "cell_type": "code",
      "execution_count": null,
      "metadata": {
        "id": "qwK5zx0Su5uP"
      },
      "outputs": [],
      "source": [
        "# Get the lattice and band path\n",
        "lattice = struct.get_cell()\n",
        "bandpath = lattice.bandpath(npoints=50)\n",
        "input_data['control'].update({'calculation':'bands','restart_mode':'restart','verbosity':'high'})\n",
        "# Set up the calculator for band structure calculation"
      ]
    },
    {
      "cell_type": "code",
      "execution_count": null,
      "metadata": {
        "id": "WFtEGh7KB92g"
      },
      "outputs": [],
      "source": [
        "struct.calc = Espresso(profile=profile,\n",
        "    pseudopotentials=pseudo_dict, kpts={'path': bandpath.kpts},\n",
        "    input_data=input_data)\n"
      ]
    },
    {
      "cell_type": "markdown",
      "metadata": {
        "id": "a7UkIXYqSKCj"
      },
      "source": [
        "### Start Band calculation"
      ]
    },
    {
      "cell_type": "code",
      "execution_count": null,
      "metadata": {
        "id": "Unu72z7XCICz"
      },
      "outputs": [],
      "source": [
        "struct.calc.calculate(struct, [], [])"
      ]
    },
    {
      "cell_type": "code",
      "execution_count": null,
      "metadata": {
        "id": "OcPdZNlMDQDX"
      },
      "outputs": [],
      "source": [
        "from ase.spectrum.band_structure import BandStructure, get_band_structure\n",
        "bands = get_band_structure(struct, reference=fermi_level)"
      ]
    },
    {
      "cell_type": "code",
      "execution_count": null,
      "metadata": {
        "colab": {
          "base_uri": "https://localhost:8080/",
          "height": 447
        },
        "id": "dMlnUwxjFybL",
        "outputId": "4c78d338-def9-43e6-9abe-aa3720bf9d88"
      },
      "outputs": [],
      "source": [
        "bands.plot(show=True, emin=fermi_level - 5, emax=fermi_level + 5.0)"
      ]
    },
    {
      "cell_type": "code",
      "execution_count": null,
      "metadata": {
        "colab": {
          "base_uri": "https://localhost:8080/"
        },
        "id": "zcgw33HlGPu3",
        "outputId": "e8b7a278-8ecd-4ca0-cc84-667a7b299d79"
      },
      "outputs": [],
      "source": [
        "! ls"
      ]
    }
  ],
  "metadata": {
    "colab": {
      "authorship_tag": "ABX9TyP1fWvPIHy6WwoT+MA7067t",
      "include_colab_link": true,
      "provenance": []
    },
    "kernelspec": {
      "display_name": "Python 3",
      "language": "python",
      "name": "python3"
    },
    "language_info": {
      "codemirror_mode": {
        "name": "ipython",
        "version": 3
      },
      "file_extension": ".py",
      "mimetype": "text/x-python",
      "name": "python",
      "nbconvert_exporter": "python",
      "pygments_lexer": "ipython3",
      "version": "3.12.3"
    }
  },
  "nbformat": 4,
  "nbformat_minor": 0
}
