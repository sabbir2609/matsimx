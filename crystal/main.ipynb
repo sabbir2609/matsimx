{
 "cells": [
  {
   "cell_type": "code",
   "execution_count": 1,
   "id": "da9a2477",
   "metadata": {},
   "outputs": [
    {
     "name": "stdout",
     "output_type": "stream",
     "text": [
      "Full Formula (Fe22.4 Sn1.6 O32)\n",
      "Reduced Formula: Fe22.4Sn1.6O32\n",
      "abc   :   8.461000   8.461000   8.461000\n",
      "angles:  90.000000  90.000000  90.000000\n",
      "pbc   :       True       True       True\n",
      "Sites (56)\n",
      "  #  SP                         a      b      c\n",
      "---  ---------------------  -----  -----  -----\n",
      "  0  Fe2.57+                0      0      0\n",
      "  1  Fe2.57+                0.25   0.25   0.25\n",
      "  2  Fe2.57+                0      0.5    0.5\n",
      "  3  Fe2.57+                0.5    0      0.5\n",
      "  4  Fe2.57+                0.5    0.5    0\n",
      "  5  Fe2.57+                0.25   0.75   0.75\n",
      "  6  Fe2.57+                0.75   0.25   0.75\n",
      "  7  Fe2.57+                0.75   0.75   0.25\n",
      "  8  Fe2.57+:0.9, Sn4+:0.1  0.625  0.625  0.625\n",
      "  9  Fe2.57+:0.9, Sn4+:0.1  0.625  0.375  0.375\n",
      " 10  Fe2.57+:0.9, Sn4+:0.1  0.375  0.625  0.375\n",
      " 11  Fe2.57+:0.9, Sn4+:0.1  0.375  0.375  0.625\n",
      " 12  Fe2.57+:0.9, Sn4+:0.1  0.625  0.875  0.875\n",
      " 13  Fe2.57+:0.9, Sn4+:0.1  0.875  0.625  0.875\n",
      " 14  Fe2.57+:0.9, Sn4+:0.1  0.875  0.875  0.625\n",
      " 15  Fe2.57+:0.9, Sn4+:0.1  0.625  0.125  0.125\n",
      " 16  Fe2.57+:0.9, Sn4+:0.1  0.125  0.625  0.125\n",
      " 17  Fe2.57+:0.9, Sn4+:0.1  0.125  0.125  0.625\n",
      " 18  Fe2.57+:0.9, Sn4+:0.1  0.125  0.375  0.875\n",
      " 19  Fe2.57+:0.9, Sn4+:0.1  0.125  0.875  0.375\n",
      " 20  Fe2.57+:0.9, Sn4+:0.1  0.375  0.125  0.875\n",
      " 21  Fe2.57+:0.9, Sn4+:0.1  0.875  0.125  0.375\n",
      " 22  Fe2.57+:0.9, Sn4+:0.1  0.375  0.875  0.125\n",
      " 23  Fe2.57+:0.9, Sn4+:0.1  0.875  0.375  0.125\n",
      " 24  O2-                    0.379  0.379  0.379\n",
      " 25  O2-                    0.379  0.621  0.621\n",
      " 26  O2-                    0.621  0.379  0.621\n",
      " 27  O2-                    0.621  0.621  0.379\n",
      " 28  O2-                    0.871  0.871  0.871\n",
      " 29  O2-                    0.871  0.629  0.629\n",
      " 30  O2-                    0.629  0.871  0.629\n",
      " 31  O2-                    0.629  0.629  0.871\n",
      " 32  O2-                    0.379  0.879  0.879\n",
      " 33  O2-                    0.879  0.379  0.879\n",
      " 34  O2-                    0.879  0.879  0.379\n",
      " 35  O2-                    0.379  0.121  0.121\n",
      " 36  O2-                    0.879  0.621  0.121\n",
      " 37  O2-                    0.879  0.121  0.621\n",
      " 38  O2-                    0.621  0.879  0.121\n",
      " 39  O2-                    0.121  0.379  0.121\n",
      " 40  O2-                    0.121  0.879  0.621\n",
      " 41  O2-                    0.621  0.121  0.879\n",
      " 42  O2-                    0.121  0.621  0.879\n",
      " 43  O2-                    0.121  0.121  0.379\n",
      " 44  O2-                    0.871  0.371  0.371\n",
      " 45  O2-                    0.371  0.871  0.371\n",
      " 46  O2-                    0.371  0.371  0.871\n",
      " 47  O2-                    0.871  0.129  0.129\n",
      " 48  O2-                    0.371  0.629  0.129\n",
      " 49  O2-                    0.371  0.129  0.629\n",
      " 50  O2-                    0.629  0.371  0.129\n",
      " 51  O2-                    0.129  0.871  0.129\n",
      " 52  O2-                    0.129  0.371  0.629\n",
      " 53  O2-                    0.629  0.129  0.371\n",
      " 54  O2-                    0.129  0.629  0.371\n",
      " 55  O2-                    0.129  0.129  0.871\n"
     ]
    },
    {
     "data": {
      "text/html": [
       "\n",
       "        <iframe\n",
       "            width=\"100%\"\n",
       "            height=\"650\"\n",
       "            src=\"http://127.0.0.1:8884/\"\n",
       "            frameborder=\"0\"\n",
       "            allowfullscreen\n",
       "            \n",
       "        ></iframe>\n",
       "        "
      ],
      "text/plain": [
       "<IPython.lib.display.IFrame at 0x29b97d11e40>"
      ]
     },
     "metadata": {},
     "output_type": "display_data"
    }
   ],
   "source": [
    "import crystal_toolkit\n",
    "from pymatgen.core import Structure\n",
    "\n",
    "struct_expt = Structure.from_file(\"1001049.cif\")\n",
    "print(struct_expt)\n",
    "struct_expt"
   ]
  },
  {
   "cell_type": "code",
   "execution_count": 2,
   "id": "4ff0150b",
   "metadata": {},
   "outputs": [
    {
     "name": "stdout",
     "output_type": "stream",
     "text": [
      "Reduced formula: Fe22.4Sn1.6O32\n"
     ]
    }
   ],
   "source": [
    "# Create output directory based on reduced formula\n",
    "# get reduced formula\n",
    "\n",
    "reduced_formula = struct_expt.composition.reduced_formula\n",
    "print(f\"Reduced formula: {reduced_formula}\")"
   ]
  },
  {
   "cell_type": "code",
   "execution_count": 3,
   "id": "735ebd10",
   "metadata": {},
   "outputs": [
    {
     "name": "stderr",
     "output_type": "stream",
     "text": [
      "DGL backend not selected or invalid.  Assuming PyTorch for now.\n"
     ]
    },
    {
     "name": "stdout",
     "output_type": "stream",
     "text": [
      "Setting the default backend to \"pytorch\". You can change it in the ~/.dgl/config.json file or export the DGLBACKEND environment variable.  Valid options are: pytorch, mxnet, tensorflow (all lowercase)\n"
     ]
    },
    {
     "ename": "ValueError",
     "evalue": "ASE Atoms only supports ordered structures",
     "output_type": "error",
     "traceback": [
      "\u001b[1;31m---------------------------------------------------------------------------\u001b[0m",
      "\u001b[1;31mValueError\u001b[0m                                Traceback (most recent call last)",
      "Cell \u001b[1;32mIn[3], line 13\u001b[0m\n\u001b[0;32m      5\u001b[0m calculator_pbe \u001b[38;5;241m=\u001b[39m matcalc\u001b[38;5;241m.\u001b[39mload_fp(\u001b[38;5;124m\"\u001b[39m\u001b[38;5;124mpbe\u001b[39m\u001b[38;5;124m\"\u001b[39m)\n\u001b[0;32m      6\u001b[0m relax_calc \u001b[38;5;241m=\u001b[39m matcalc\u001b[38;5;241m.\u001b[39mRelaxCalc( \u001b[38;5;66;03m# type: ignore\u001b[39;00m\n\u001b[0;32m      7\u001b[0m     calculator_pbe,\n\u001b[0;32m      8\u001b[0m     optimizer\u001b[38;5;241m=\u001b[39m\u001b[38;5;124m\"\u001b[39m\u001b[38;5;124mFIRE\u001b[39m\u001b[38;5;124m\"\u001b[39m,\n\u001b[0;32m      9\u001b[0m     relax_atoms\u001b[38;5;241m=\u001b[39m\u001b[38;5;28;01mTrue\u001b[39;00m,\n\u001b[0;32m     10\u001b[0m     relax_cell\u001b[38;5;241m=\u001b[39m\u001b[38;5;28;01mTrue\u001b[39;00m\n\u001b[0;32m     11\u001b[0m )\n\u001b[1;32m---> 13\u001b[0m data \u001b[38;5;241m=\u001b[39m \u001b[43mrelax_calc\u001b[49m\u001b[38;5;241;43m.\u001b[39;49m\u001b[43mcalc\u001b[49m\u001b[43m(\u001b[49m\u001b[43mstruct_expt\u001b[49m\u001b[43m)\u001b[49m\n",
      "File \u001b[1;32md:\\Projects\\Sim\\matsimx\\.venv\\lib\\site-packages\\matcalc\\_relaxation.py:148\u001b[0m, in \u001b[0;36mRelaxCalc.calc\u001b[1;34m(self, structure)\u001b[0m\n\u001b[0;32m    145\u001b[0m \u001b[38;5;28;01mif\u001b[39;00m \u001b[38;5;28mself\u001b[39m\u001b[38;5;241m.\u001b[39mperturb_distance \u001b[38;5;129;01mis\u001b[39;00m \u001b[38;5;129;01mnot\u001b[39;00m \u001b[38;5;28;01mNone\u001b[39;00m:\n\u001b[0;32m    146\u001b[0m     structure_in \u001b[38;5;241m=\u001b[39m to_pmg_structure(structure_in)\u001b[38;5;241m.\u001b[39mperturb(distance\u001b[38;5;241m=\u001b[39m\u001b[38;5;28mself\u001b[39m\u001b[38;5;241m.\u001b[39mperturb_distance, seed\u001b[38;5;241m=\u001b[39m\u001b[38;5;28;01mNone\u001b[39;00m)\n\u001b[1;32m--> 148\u001b[0m r \u001b[38;5;241m=\u001b[39m \u001b[43mrun_pes_calc\u001b[49m\u001b[43m(\u001b[49m\n\u001b[0;32m    149\u001b[0m \u001b[43m    \u001b[49m\u001b[43mstructure_in\u001b[49m\u001b[43m,\u001b[49m\n\u001b[0;32m    150\u001b[0m \u001b[43m    \u001b[49m\u001b[38;5;28;43mself\u001b[39;49m\u001b[38;5;241;43m.\u001b[39;49m\u001b[43mcalculator\u001b[49m\u001b[43m,\u001b[49m\n\u001b[0;32m    151\u001b[0m \u001b[43m    \u001b[49m\u001b[43mrelax_atoms\u001b[49m\u001b[38;5;241;43m=\u001b[39;49m\u001b[38;5;28;43mself\u001b[39;49m\u001b[38;5;241;43m.\u001b[39;49m\u001b[43mrelax_atoms\u001b[49m\u001b[43m,\u001b[49m\n\u001b[0;32m    152\u001b[0m \u001b[43m    \u001b[49m\u001b[43mrelax_cell\u001b[49m\u001b[38;5;241;43m=\u001b[39;49m\u001b[38;5;28;43mself\u001b[39;49m\u001b[38;5;241;43m.\u001b[39;49m\u001b[43mrelax_cell\u001b[49m\u001b[43m,\u001b[49m\n\u001b[0;32m    153\u001b[0m \u001b[43m    \u001b[49m\u001b[43moptimizer\u001b[49m\u001b[38;5;241;43m=\u001b[39;49m\u001b[38;5;28;43mself\u001b[39;49m\u001b[38;5;241;43m.\u001b[39;49m\u001b[43moptimizer\u001b[49m\u001b[43m,\u001b[49m\n\u001b[0;32m    154\u001b[0m \u001b[43m    \u001b[49m\u001b[43mmax_steps\u001b[49m\u001b[38;5;241;43m=\u001b[39;49m\u001b[38;5;28;43mself\u001b[39;49m\u001b[38;5;241;43m.\u001b[39;49m\u001b[43mmax_steps\u001b[49m\u001b[43m,\u001b[49m\n\u001b[0;32m    155\u001b[0m \u001b[43m    \u001b[49m\u001b[43mtraj_file\u001b[49m\u001b[38;5;241;43m=\u001b[39;49m\u001b[38;5;28;43mself\u001b[39;49m\u001b[38;5;241;43m.\u001b[39;49m\u001b[43mtraj_file\u001b[49m\u001b[43m,\u001b[49m\n\u001b[0;32m    156\u001b[0m \u001b[43m    \u001b[49m\u001b[43minterval\u001b[49m\u001b[38;5;241;43m=\u001b[39;49m\u001b[38;5;28;43mself\u001b[39;49m\u001b[38;5;241;43m.\u001b[39;49m\u001b[43minterval\u001b[49m\u001b[43m,\u001b[49m\n\u001b[0;32m    157\u001b[0m \u001b[43m    \u001b[49m\u001b[43mfmax\u001b[49m\u001b[38;5;241;43m=\u001b[39;49m\u001b[38;5;28;43mself\u001b[39;49m\u001b[38;5;241;43m.\u001b[39;49m\u001b[43mfmax\u001b[49m\u001b[43m,\u001b[49m\n\u001b[0;32m    158\u001b[0m \u001b[43m    \u001b[49m\u001b[43mcell_filter\u001b[49m\u001b[38;5;241;43m=\u001b[39;49m\u001b[38;5;28;43mself\u001b[39;49m\u001b[38;5;241;43m.\u001b[39;49m\u001b[43mcell_filter\u001b[49m\u001b[43m,\u001b[49m\n\u001b[0;32m    159\u001b[0m \u001b[43m\u001b[49m\u001b[43m)\u001b[49m\n\u001b[0;32m    161\u001b[0m lattice \u001b[38;5;241m=\u001b[39m r\u001b[38;5;241m.\u001b[39mstructure\u001b[38;5;241m.\u001b[39mlattice\n\u001b[0;32m    162\u001b[0m result\u001b[38;5;241m.\u001b[39mupdate(\n\u001b[0;32m    163\u001b[0m     {\n\u001b[0;32m    164\u001b[0m         \u001b[38;5;124m\"\u001b[39m\u001b[38;5;124mfinal_structure\u001b[39m\u001b[38;5;124m\"\u001b[39m: r\u001b[38;5;241m.\u001b[39mstructure,\n\u001b[1;32m   (...)\u001b[0m\n\u001b[0;32m    175\u001b[0m     }\n\u001b[0;32m    176\u001b[0m )\n",
      "File \u001b[1;32md:\\Projects\\Sim\\matsimx\\.venv\\lib\\site-packages\\matcalc\\backend\\__init__.py:31\u001b[0m, in \u001b[0;36mrun_pes_calc\u001b[1;34m(*arg, **kwargs)\u001b[0m\n\u001b[0;32m     13\u001b[0m \u001b[38;5;250m\u001b[39m\u001b[38;5;124;03m\"\"\"\u001b[39;00m\n\u001b[0;32m     14\u001b[0m \u001b[38;5;124;03mExecutes the potential energy surface (PES) calculation using the appropriate backend.\u001b[39;00m\n\u001b[0;32m     15\u001b[0m \n\u001b[1;32m   (...)\u001b[0m\n\u001b[0;32m     28\u001b[0m \u001b[38;5;124;03m:rtype: SimulationResult\u001b[39;00m\n\u001b[0;32m     29\u001b[0m \u001b[38;5;124;03m\"\"\"\u001b[39;00m\n\u001b[0;32m     30\u001b[0m \u001b[38;5;28;01mif\u001b[39;00m SIMULATION_BACKEND \u001b[38;5;241m==\u001b[39m \u001b[38;5;124m\"\u001b[39m\u001b[38;5;124mASE\u001b[39m\u001b[38;5;124m\"\u001b[39m:\n\u001b[1;32m---> 31\u001b[0m     \u001b[38;5;28;01mreturn\u001b[39;00m run_ase(\u001b[38;5;241m*\u001b[39marg, \u001b[38;5;241m*\u001b[39m\u001b[38;5;241m*\u001b[39mkwargs)\n\u001b[0;32m     32\u001b[0m \u001b[38;5;28;01mreturn\u001b[39;00m run_lammps(\u001b[38;5;241m*\u001b[39marg, \u001b[38;5;241m*\u001b[39m\u001b[38;5;241m*\u001b[39mkwargs)\n",
      "File \u001b[1;32md:\\Projects\\Sim\\matsimx\\.venv\\lib\\site-packages\\matcalc\\backend\\_ase.py:206\u001b[0m, in \u001b[0;36mrun_ase\u001b[1;34m(structure, calculator, relax_atoms, relax_cell, optimizer, max_steps, traj_file, interval, fmax, cell_filter)\u001b[0m\n\u001b[0;32m    183\u001b[0m \u001b[38;5;28;01mdef\u001b[39;00m\u001b[38;5;250m \u001b[39m\u001b[38;5;21mrun_ase\u001b[39m(\n\u001b[0;32m    184\u001b[0m     structure: Structure \u001b[38;5;241m|\u001b[39m Atoms,\n\u001b[0;32m    185\u001b[0m     calculator: Calculator,\n\u001b[1;32m   (...)\u001b[0m\n\u001b[0;32m    194\u001b[0m     cell_filter: Filter \u001b[38;5;241m=\u001b[39m FrechetCellFilter,  \u001b[38;5;66;03m# type:ignore[assignment]\u001b[39;00m\n\u001b[0;32m    195\u001b[0m ) \u001b[38;5;241m-\u001b[39m\u001b[38;5;241m>\u001b[39m SimulationResult:\n\u001b[0;32m    196\u001b[0m \u001b[38;5;250m    \u001b[39m\u001b[38;5;124;03m\"\"\"\u001b[39;00m\n\u001b[0;32m    197\u001b[0m \u001b[38;5;124;03m    Run ASE static calculation using the given structure and calculator.\u001b[39;00m\n\u001b[0;32m    198\u001b[0m \n\u001b[1;32m   (...)\u001b[0m\n\u001b[0;32m    204\u001b[0m \u001b[38;5;124;03m    PESResult: Object containing potential energy, forces, and stress of the input structure.\u001b[39;00m\n\u001b[0;32m    205\u001b[0m \u001b[38;5;124;03m    \"\"\"\u001b[39;00m\n\u001b[1;32m--> 206\u001b[0m     atoms \u001b[38;5;241m=\u001b[39m \u001b[43mto_ase_atoms\u001b[49m\u001b[43m(\u001b[49m\u001b[43mstructure\u001b[49m\u001b[43m)\u001b[49m\n\u001b[0;32m    207\u001b[0m     atoms\u001b[38;5;241m.\u001b[39mcalc \u001b[38;5;241m=\u001b[39m calculator\n\u001b[0;32m    208\u001b[0m     \u001b[38;5;28;01mif\u001b[39;00m relax_atoms:\n",
      "File \u001b[1;32md:\\Projects\\Sim\\matsimx\\.venv\\lib\\site-packages\\matcalc\\utils.py:450\u001b[0m, in \u001b[0;36mto_ase_atoms\u001b[1;34m(structure)\u001b[0m\n\u001b[0;32m    438\u001b[0m \u001b[38;5;28;01mdef\u001b[39;00m\u001b[38;5;250m \u001b[39m\u001b[38;5;21mto_ase_atoms\u001b[39m(structure: Atoms \u001b[38;5;241m|\u001b[39m Structure) \u001b[38;5;241m-\u001b[39m\u001b[38;5;241m>\u001b[39m Atoms:\n\u001b[0;32m    439\u001b[0m \u001b[38;5;250m    \u001b[39m\u001b[38;5;124;03m\"\"\"\u001b[39;00m\n\u001b[0;32m    440\u001b[0m \u001b[38;5;124;03m    Converts a given structure into an ASE Atoms object. This function checks\u001b[39;00m\n\u001b[0;32m    441\u001b[0m \u001b[38;5;124;03m    if the input structure is already an ASE Atoms object. If not, it converts\u001b[39;00m\n\u001b[1;32m   (...)\u001b[0m\n\u001b[0;32m    448\u001b[0m \u001b[38;5;124;03m    :rtype: Atoms\u001b[39;00m\n\u001b[0;32m    449\u001b[0m \u001b[38;5;124;03m    \"\"\"\u001b[39;00m\n\u001b[1;32m--> 450\u001b[0m     \u001b[38;5;28;01mreturn\u001b[39;00m structure \u001b[38;5;28;01mif\u001b[39;00m \u001b[38;5;28misinstance\u001b[39m(structure, Atoms) \u001b[38;5;28;01melse\u001b[39;00m \u001b[43mAseAtomsAdaptor\u001b[49m\u001b[38;5;241;43m.\u001b[39;49m\u001b[43mget_atoms\u001b[49m\u001b[43m(\u001b[49m\u001b[43mstructure\u001b[49m\u001b[43m)\u001b[49m\n",
      "File \u001b[1;32md:\\Projects\\Sim\\matsimx\\.venv\\lib\\site-packages\\pymatgen\\io\\ase.py:108\u001b[0m, in \u001b[0;36mAseAtomsAdaptor.get_atoms\u001b[1;34m(structure, msonable, **kwargs)\u001b[0m\n\u001b[0;32m    106\u001b[0m     \u001b[38;5;28;01mraise\u001b[39;00m NO_ASE_ERR\n\u001b[0;32m    107\u001b[0m \u001b[38;5;28;01mif\u001b[39;00m \u001b[38;5;129;01mnot\u001b[39;00m structure\u001b[38;5;241m.\u001b[39mis_ordered:\n\u001b[1;32m--> 108\u001b[0m     \u001b[38;5;28;01mraise\u001b[39;00m \u001b[38;5;167;01mValueError\u001b[39;00m(\u001b[38;5;124m\"\u001b[39m\u001b[38;5;124mASE Atoms only supports ordered structures\u001b[39m\u001b[38;5;124m\"\u001b[39m)\n\u001b[0;32m    110\u001b[0m \u001b[38;5;66;03m# Construct the base ASE Atoms object\u001b[39;00m\n\u001b[0;32m    111\u001b[0m symbols \u001b[38;5;241m=\u001b[39m [\u001b[38;5;28mstr\u001b[39m(site\u001b[38;5;241m.\u001b[39mspecie\u001b[38;5;241m.\u001b[39msymbol) \u001b[38;5;28;01mfor\u001b[39;00m site \u001b[38;5;129;01min\u001b[39;00m structure]\n",
      "\u001b[1;31mValueError\u001b[0m: ASE Atoms only supports ordered structures"
     ]
    }
   ],
   "source": [
    "# Relax with pbe\n",
    "\n",
    "import matcalc\n",
    "\n",
    "calculator_pbe = matcalc.load_fp(\"pbe\")\n",
    "relax_calc = matcalc.RelaxCalc( # type: ignore\n",
    "    calculator_pbe,\n",
    "    optimizer=\"FIRE\",\n",
    "    relax_atoms=True,\n",
    "    relax_cell=True\n",
    ")\n",
    "\n",
    "data = relax_calc.calc(struct_expt)"
   ]
  }
 ],
 "metadata": {
  "kernelspec": {
   "display_name": "matsimx",
   "language": "python",
   "name": "python3"
  },
  "language_info": {
   "codemirror_mode": {
    "name": "ipython",
    "version": 3
   },
   "file_extension": ".py",
   "mimetype": "text/x-python",
   "name": "python",
   "nbconvert_exporter": "python",
   "pygments_lexer": "ipython3",
   "version": "3.10.18"
  }
 },
 "nbformat": 4,
 "nbformat_minor": 5
}
